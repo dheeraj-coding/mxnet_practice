{
 "cells": [
  {
   "cell_type": "code",
   "execution_count": 27,
   "metadata": {},
   "outputs": [],
   "source": [
    "import matplotlib.pyplot as plt\n",
    "from mxnet import nd, gluon, init, context, autograd\n",
    "from mxnet.gluon import nn\n",
    "\n",
    "import re\n",
    "import collections\n",
    "import random"
   ]
  },
  {
   "cell_type": "code",
   "execution_count": 2,
   "metadata": {},
   "outputs": [],
   "source": [
    "def read_time_machine():\n",
    "    with open('./data/timemachine.txt', 'r') as f:\n",
    "        lines = f.readlines()\n",
    "    return [re.sub('[^A-Za-z]+', ' ', line.strip().lower()) for line in lines]"
   ]
  },
  {
   "cell_type": "code",
   "execution_count": 4,
   "metadata": {},
   "outputs": [
    {
     "name": "stdout",
     "output_type": "stream",
     "text": [
      "['the time machine by h g wells ', '', '', '', '']\n"
     ]
    }
   ],
   "source": [
    "lines = read_time_machine()\n",
    "print(lines[:5])"
   ]
  },
  {
   "cell_type": "code",
   "execution_count": 5,
   "metadata": {},
   "outputs": [],
   "source": [
    "def tokenize(lines):\n",
    "    tokens = [line.split(' ') for line in lines]\n",
    "    return tokens"
   ]
  },
  {
   "cell_type": "code",
   "execution_count": 7,
   "metadata": {},
   "outputs": [
    {
     "name": "stdout",
     "output_type": "stream",
     "text": [
      "[['the', 'time', 'machine', 'by', 'h', 'g', 'wells', ''], [''], [''], [''], ['']]\n"
     ]
    }
   ],
   "source": [
    "tokens = tokenize(lines)\n",
    "print(tokens[:5])"
   ]
  },
  {
   "cell_type": "code",
   "execution_count": 14,
   "metadata": {},
   "outputs": [],
   "source": [
    "class Vocab(object):\n",
    "    def __init__(self, tokens, min_freq=0):\n",
    "        \n",
    "        self.token_freqs = Vocab.count_freqs(tokens)\n",
    "        self.token_freqs = sorted(self.token_freqs.items(), key=lambda x: x[0])\n",
    "        self.token_freqs = sorted(self.token_freqs, key=lambda x:x[1], reverse=True)\n",
    "        \n",
    "        self.unk, self.uniq_tokens = 0, ['<unk>']\n",
    "        self.uniq_tokens += [token for token, freq in self.token_freqs if freq > min_freq]\n",
    "        \n",
    "        self.idx_to_token, self.token_to_idx = [], dict()\n",
    "        for token in self.uniq_tokens:\n",
    "            self.idx_to_token.append(token)\n",
    "            self.token_to_idx[token] = len(self.idx_to_token) - 1\n",
    "        \n",
    "    @staticmethod\n",
    "    def count_freqs(tokens):\n",
    "        flat = [tk for line in tokens for tk in line]\n",
    "        return collections.Counter(flat)\n",
    "    \n",
    "    def __len__(self):\n",
    "        return len(self.idx_to_token)\n",
    "    \n",
    "    \n",
    "    def __getitem__(self, tokens):\n",
    "        if not isinstance(tokens, (list, tuple)):\n",
    "            return self.token_to_idx[tokens]\n",
    "        return [self.token_to_idx[token] for token in tokens]\n",
    "    def to_tokens(self, indices):\n",
    "        if not isinstance(tokens, (list, tuple)):\n",
    "            return self.idx_to_token[indices]\n",
    "        return [self.idx_to_token[index] for index in indices]"
   ]
  },
  {
   "cell_type": "code",
   "execution_count": 15,
   "metadata": {},
   "outputs": [],
   "source": [
    "vocab = Vocab(tokens)"
   ]
  },
  {
   "cell_type": "code",
   "execution_count": 16,
   "metadata": {},
   "outputs": [
    {
     "name": "stdout",
     "output_type": "stream",
     "text": [
      "[('the', 2261), ('', 1282), ('i', 1267), ('and', 1245), ('of', 1155), ('a', 816), ('to', 695), ('was', 552), ('in', 541), ('that', 443)]\n"
     ]
    }
   ],
   "source": [
    "print(vocab.token_freqs[:10])"
   ]
  },
  {
   "cell_type": "code",
   "execution_count": 17,
   "metadata": {},
   "outputs": [
    {
     "data": {
      "text/plain": [
       "[<matplotlib.lines.Line2D at 0x7f54a0bd14a8>]"
      ]
     },
     "execution_count": 17,
     "metadata": {},
     "output_type": "execute_result"
    },
    {
     "data": {
      "image/png": "[encoded data removed]",
      "text/plain": [
       "<Figure size 432x288 with 1 Axes>"
      ]
     },
     "metadata": {
      "needs_background": "light"
     },
     "output_type": "display_data"
    }
   ],
   "source": [
    "freqs = [freq for token, freq in vocab.token_freqs]\n",
    "axes = plt.gca()\n",
    "axes.set_xlabel('tokens')\n",
    "axes.set_ylabel('freqs')\n",
    "axes.set_xscale('log')\n",
    "axes.set_yscale('log')\n",
    "axes.plot(freqs)"
   ]
  },
  {
   "cell_type": "code",
   "execution_count": 18,
   "metadata": {},
   "outputs": [],
   "source": [
    "digram_tokens = [[pair for pair in zip(line[:-1], line[1:])] for line in tokens]\n",
    "digram_vocab = Vocab(digram_tokens)"
   ]
  },
  {
   "cell_type": "code",
   "execution_count": 20,
   "metadata": {},
   "outputs": [
    {
     "data": {
      "text/plain": [
       "[<matplotlib.lines.Line2D at 0x7f5491c567f0>]"
      ]
     },
     "execution_count": 20,
     "metadata": {},
     "output_type": "execute_result"
    },
    {
     "data": {
      "image/png": "[encoded data removed]",
      "text/plain": [
       "<Figure size 432x288 with 1 Axes>"
      ]
     },
     "metadata": {
      "needs_background": "light"
     },
     "output_type": "display_data"
    }
   ],
   "source": [
    "digram_freqs = [freq for token, freq in digram_vocab.token_freqs]\n",
    "axes = plt.gca()\n",
    "axes.set_xlabel('tokens')\n",
    "axes.set_ylabel('freqs')\n",
    "axes.set_xscale('log')\n",
    "axes.set_yscale('log')\n",
    "axes.plot(freqs)\n",
    "axes.plot(digram_freqs)"
   ]
  },
  {
   "cell_type": "code",
   "execution_count": 21,
   "metadata": {},
   "outputs": [],
   "source": [
    "trigram_tokens = [[triplet for triplet in zip(line[:-2], line[1:-1], line[2:])] for line in tokens]\n",
    "trigram_vocab = Vocab(trigram_tokens)"
   ]
  },
  {
   "cell_type": "code",
   "execution_count": 22,
   "metadata": {},
   "outputs": [
    {
     "data": {
      "text/plain": [
       "[<matplotlib.lines.Line2D at 0x7f54915ff438>]"
      ]
     },
     "execution_count": 22,
     "metadata": {},
     "output_type": "execute_result"
    },
    {
     "data": {
      "image/png": "[encoded data removed]",
      "text/plain": [
       "<Figure size 432x288 with 1 Axes>"
      ]
     },
     "metadata": {
      "needs_background": "light"
     },
     "output_type": "display_data"
    }
   ],
   "source": [
    "trigram_freqs = [freq for token, freq in trigram_vocab.token_freqs]\n",
    "axes = plt.gca()\n",
    "axes.set_xlabel('tokens')\n",
    "axes.set_ylabel('freqs')\n",
    "axes.set_xscale('log')\n",
    "axes.set_yscale('log')\n",
    "axes.plot(freqs)\n",
    "axes.plot(digram_freqs)\n",
    "axes.plot(trigram_freqs)"
   ]
  },
  {
   "cell_type": "code",
   "execution_count": 26,
   "metadata": {},
   "outputs": [
    {
     "name": "stdout",
     "output_type": "stream",
     "text": [
      "[(('the', 'time', 'traveller'), 53), (('the', 'time', 'machine'), 24), (('the', 'medical', 'man'), 22), (('it', 'seemed', 'to'), 14), (('it', 'was', 'a'), 14)]\n"
     ]
    }
   ],
   "source": [
    "print(trigram_vocab.token_freqs[:5])"
   ]
  },
  {
   "cell_type": "markdown",
   "metadata": {},
   "source": [
    "Random Sampling"
   ]
  },
  {
   "cell_type": "code",
   "execution_count": 53,
   "metadata": {},
   "outputs": [],
   "source": [
    "def seq_rand_data_iter(corpus, batch_size, num_steps):\n",
    "    corpus = corpus[random.randint(0, num_steps):]\n",
    "    num_examples = ((len(corpus) - 1) // num_steps)\n",
    "    example_indices = list(range(0, num_examples*num_steps, num_steps))\n",
    "    random.shuffle(example_indices)\n",
    "    \n",
    "    data = lambda pos: corpus[pos: pos+num_steps]\n",
    "    \n",
    "    num_data = num_examples // batch_size\n",
    "    for i in range(0, num_data*batch_size, batch_size):\n",
    "        indices = example_indices[i: (i+batch_size)]\n",
    "        X = [data(j) for j in indices]\n",
    "        Y = [data(j+1) for j in indices]\n",
    "        yield nd.array(X), nd.array(Y)"
   ]
  },
  {
   "cell_type": "code",
   "execution_count": 54,
   "metadata": {},
   "outputs": [
    {
     "name": "stdout",
     "output_type": "stream",
     "text": [
      "\n",
      "[[78. 79. 80. 81. 82.]\n",
      " [23. 24. 25. 26. 27.]]\n",
      "<NDArray 2x5 @cpu(0)>\n",
      "\n",
      "[[79. 80. 81. 82. 83.]\n",
      " [24. 25. 26. 27. 28.]]\n",
      "<NDArray 2x5 @cpu(0)>\n"
     ]
    }
   ],
   "source": [
    "seq = list(range(0, 100))\n",
    "for X, y in seq_rand_data_iter(seq, 2, 5):\n",
    "    print(X)\n",
    "    print(y)\n",
    "    break"
   ]
  },
  {
   "cell_type": "markdown",
   "metadata": {},
   "source": [
    "Sequential Sampling"
   ]
  },
  {
   "cell_type": "code",
   "execution_count": 67,
   "metadata": {},
   "outputs": [],
   "source": [
    "def seq_cons_data_iter(corpus, batch_size, num_steps):\n",
    "    offset = random.randint(0, num_steps)\n",
    "    \n",
    "    num_indices = ((len(corpus)-offset-1)//batch_size)*batch_size\n",
    "    Xs = nd.array(corpus[offset:offset+num_indices])\n",
    "    Ys = nd.array(corpus[offset+1:offset+1+num_indices])\n",
    "    Xs = Xs.reshape((batch_size, -1))\n",
    "    Ys = Ys.reshape((batch_size, -1))\n",
    "    num_batches = Xs.shape[1] // num_steps\n",
    "    for i in range(0, num_batches*num_steps, num_steps):\n",
    "        X = Xs[:, i:(i+num_steps)]\n",
    "        y = Ys[:, i:(i+num_steps)]\n",
    "        yield X, y"
   ]
  },
  {
   "cell_type": "code",
   "execution_count": 70,
   "metadata": {},
   "outputs": [
    {
     "name": "stdout",
     "output_type": "stream",
     "text": [
      "\n",
      "[[ 6.  7.  8.  9. 10. 11.]\n",
      " [52. 53. 54. 55. 56. 57.]]\n",
      "<NDArray 2x6 @cpu(0)>\n",
      "\n",
      "[[ 7.  8.  9. 10. 11. 12.]\n",
      " [53. 54. 55. 56. 57. 58.]]\n",
      "<NDArray 2x6 @cpu(0)>\n"
     ]
    }
   ],
   "source": [
    "for X, y in seq_cons_data_iter(seq, 2, 6):\n",
    "    print(X)\n",
    "    print(y)\n",
    "    break"
   ]
  },
  {
   "cell_type": "code",
   "execution_count": 71,
   "metadata": {},
   "outputs": [],
   "source": [
    "def load_time_machine_corpus(max_tokens=-1):\n",
    "    lines = read_time_machine()\n",
    "    tokens = tokenize(lines)\n",
    "    vocab = Vocab(tokens)\n",
    "    corpus = [vocab[tk] for line in tokens for tk in line]\n",
    "    if max_tokens > 0: corpus = corpus[:max_tokens]\n",
    "    return corpus, vocab"
   ]
  },
  {
   "cell_type": "code",
   "execution_count": 72,
   "metadata": {},
   "outputs": [],
   "source": [
    "corpus, vocab = load_time_machine_corpus()"
   ]
  },
  {
   "cell_type": "code",
   "execution_count": 74,
   "metadata": {},
   "outputs": [],
   "source": [
    "def SeqDataLoader(object):\n",
    "    def __init__(self, batch_size, num_steps, use_random, max_tokens):\n",
    "        if use_random:\n",
    "            data_iter = seq_rand_data_iter\n",
    "        else:\n",
    "            data_iter = seq_cons_data_iter\n",
    "        self.corpus, self.vocab = load_time_machine_corpus(max_tokens)\n",
    "        self.get_iter = lambda : data_iter(self.corpus, batch_size, num_steps)\n",
    "    def __iter__(self):\n",
    "        return self.get_iter()"
   ]
  },
  {
   "cell_type": "code",
   "execution_count": null,
   "metadata": {},
   "outputs": [],
   "source": []
  }
 ],
 "metadata": {
  "kernelspec": {
   "display_name": "Python 3",
   "language": "python",
   "name": "python3"
  },
  "language_info": {
   "codemirror_mode": {
    "name": "ipython",
    "version": 3
   },
   "file_extension": ".py",
   "mimetype": "text/x-python",
   "name": "python",
   "nbconvert_exporter": "python",
   "pygments_lexer": "ipython3",
   "version": "3.6.8"
  }
 },
 "nbformat": 4,
 "nbformat_minor": 2
}
