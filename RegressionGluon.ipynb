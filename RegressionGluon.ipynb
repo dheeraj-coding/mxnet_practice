{
 "cells": [
  {
   "cell_type": "code",
   "execution_count": 131,
   "metadata": {},
   "outputs": [],
   "source": [
    "import matplotlib.pyplot as plt\n",
    "import mxnet\n",
    "from mxnet import nd, autograd, gluon"
   ]
  },
  {
   "cell_type": "code",
   "execution_count": 132,
   "metadata": {},
   "outputs": [],
   "source": [
    "def generate_data(w, b, num):\n",
    "    X = nd.random.normal(scale=1, shape=(num,w.shape[0]))\n",
    "    y = nd.dot(X, w) + b\n",
    "    y += nd.random.normal(scale=0.01, shape=y.shape)\n",
    "    return X, y"
   ]
  },
  {
   "cell_type": "code",
   "execution_count": 133,
   "metadata": {},
   "outputs": [],
   "source": [
    "def data_loader(arrs, batch_size, shuffle=True):\n",
    "    array_dataset = gluon.data.ArrayDataset(*arrs)\n",
    "    return gluon.data.DataLoader(array_dataset, batch_size=batch_size, shuffle=shuffle)"
   ]
  },
  {
   "cell_type": "code",
   "execution_count": 134,
   "metadata": {},
   "outputs": [],
   "source": [
    "def plotter(X, y):\n",
    "    plt.scatter(X[:, 0], y, 1)\n",
    "    plt.show()"
   ]
  },
  {
   "cell_type": "code",
   "execution_count": 135,
   "metadata": {},
   "outputs": [],
   "source": [
    "def get_model():\n",
    "    net = gluon.nn.Sequential()\n",
    "    net.add(gluon.nn.Dense(1))\n",
    "    net.initialize(mxnet.init.Normal(0.01))\n",
    "    return net"
   ]
  },
  {
   "cell_type": "code",
   "execution_count": 136,
   "metadata": {},
   "outputs": [
    {
     "data": {
      "image/png": "[encoded data removed]",
      "text/plain": [
       "<Figure size 432x288 with 1 Axes>"
      ]
     },
     "metadata": {
      "needs_background": "light"
     },
     "output_type": "display_data"
    }
   ],
   "source": [
    "true_w = nd.array([-3.4, 5])\n",
    "true_b = nd.array([2.2])\n",
    "batch_size = 10\n",
    "\n",
    "train_data = generate_data(true_w, true_b, 1000)\n",
    "plotter(train_data[0].asnumpy(), train_data[1].asnumpy())"
   ]
  },
  {
   "cell_type": "code",
   "execution_count": 137,
   "metadata": {},
   "outputs": [],
   "source": [
    "net = get_model()\n",
    "loss = gluon.loss.L2Loss()\n",
    "trainer = gluon.Trainer(net.collect_params(), 'sgd', {'learning_rate':0.03})\n",
    "data_iter = data_loader(train_data, batch_size)"
   ]
  },
  {
   "cell_type": "code",
   "execution_count": 140,
   "metadata": {},
   "outputs": [
    {
     "name": "stdout",
     "output_type": "stream",
     "text": [
      "Epoch 0.000000 loss 0.000049\n",
      "Epoch 1.000000 loss 0.000049\n",
      "Epoch 2.000000 loss 0.000049\n",
      "Epoch 3.000000 loss 0.000050\n",
      "Epoch 4.000000 loss 0.000050\n",
      "Epoch 5.000000 loss 0.000050\n",
      "Epoch 6.000000 loss 0.000049\n",
      "Epoch 7.000000 loss 0.000049\n",
      "Epoch 8.000000 loss 0.000049\n",
      "Epoch 9.000000 loss 0.000050\n"
     ]
    }
   ],
   "source": [
    "epochs = 10\n",
    "for epoch in range(epochs):\n",
    "    for X, y in data_iter:\n",
    "        with autograd.record():\n",
    "            l = loss(net(X), y)\n",
    "        l.backward()\n",
    "        trainer.step(batch_size)\n",
    "    epoch_loss = loss(net(train_data[0]),train_data[1])\n",
    "    print(\"Epoch %f loss %f\" % (epoch, epoch_loss.mean().asnumpy()))"
   ]
  },
  {
   "cell_type": "code",
   "execution_count": 141,
   "metadata": {},
   "outputs": [
    {
     "name": "stdout",
     "output_type": "stream",
     "text": [
      "Error in w: \n",
      "[[ 8.4233284e-04 -6.5326691e-05]]\n",
      "<NDArray 1x2 @cpu(0)>\n",
      "Error in b \n",
      "[-0.00044847]\n",
      "<NDArray 1 @cpu(0)>\n"
     ]
    }
   ],
   "source": [
    "w = net[0].weight.data()\n",
    "b = net[0].bias.data()\n",
    "print(\"Error in w:\", w-true_w)\n",
    "print(\"Error in b\", b-true_b)"
   ]
  },
  {
   "cell_type": "code",
   "execution_count": null,
   "metadata": {},
   "outputs": [],
   "source": []
  }
 ],
 "metadata": {
  "kernelspec": {
   "display_name": "Python 3",
   "language": "python",
   "name": "python3"
  },
  "language_info": {
   "codemirror_mode": {
    "name": "ipython",
    "version": 3
   },
   "file_extension": ".py",
   "mimetype": "text/x-python",
   "name": "python",
   "nbconvert_exporter": "python",
   "pygments_lexer": "ipython3",
   "version": "3.6.7"
  }
 },
 "nbformat": 4,
 "nbformat_minor": 2
}
