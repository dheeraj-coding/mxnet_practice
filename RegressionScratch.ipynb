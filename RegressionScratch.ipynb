{
 "cells": [
  {
   "cell_type": "code",
   "execution_count": 133,
   "metadata": {},
   "outputs": [],
   "source": [
    "import matplotlib.pyplot as plt\n",
    "from mxnet import nd, autograd\n",
    "import random"
   ]
  },
  {
   "cell_type": "code",
   "execution_count": 134,
   "metadata": {},
   "outputs": [],
   "source": [
    "def generate_data(w, b, num):\n",
    "    X = nd.random.normal(shape=(num, len(w)))\n",
    "    y = nd.dot(X, w) + b\n",
    "    y += nd.random.normal(scale=0.01, shape=(y.shape))\n",
    "    return X, y    "
   ]
  },
  {
   "cell_type": "code",
   "execution_count": 135,
   "metadata": {},
   "outputs": [],
   "source": [
    "def plotter(X, y):\n",
    "    plt.scatter(X, y, 1)\n",
    "    plt.show()"
   ]
  },
  {
   "cell_type": "code",
   "execution_count": 136,
   "metadata": {},
   "outputs": [],
   "source": [
    "def model(w, b, X):\n",
    "    return nd.dot(X, w) + b"
   ]
  },
  {
   "cell_type": "code",
   "execution_count": 137,
   "metadata": {},
   "outputs": [],
   "source": [
    "def loss(y_hat, y):\n",
    "    return ((y_hat - y.reshape(y_hat.shape))**2)/2"
   ]
  },
  {
   "cell_type": "code",
   "execution_count": 138,
   "metadata": {},
   "outputs": [],
   "source": [
    "def data_iter(X, y, batch_size):\n",
    "    indices = list(range(len(y )))\n",
    "    random.shuffle(indices)\n",
    "    for i in range(0, len(y), batch_size):\n",
    "        j = nd.array(indices[i: min(i+batch_size, len(y))])\n",
    "        yield X.take(j), y.take(j)\n"
   ]
  },
  {
   "cell_type": "code",
   "execution_count": 139,
   "metadata": {},
   "outputs": [
    {
     "data": {
      "image/png": "[encoded data removed]",
      "text/plain": [
       "<Figure size 432x288 with 1 Axes>"
      ]
     },
     "metadata": {
      "needs_background": "light"
     },
     "output_type": "display_data"
    }
   ],
   "source": [
    "true_w = nd.array([3.4, 5])\n",
    "true_b = 2.5\n",
    "X, y = generate_data(true_w, true_b, 1000)\n",
    "plotter(X[:, 1].asnumpy(), y.asnumpy())"
   ]
  },
  {
   "cell_type": "code",
   "execution_count": 145,
   "metadata": {},
   "outputs": [
    {
     "name": "stdout",
     "output_type": "stream",
     "text": [
      "\n",
      "[[-0.0042419 ]\n",
      " [ 0.00958158]]\n",
      "<NDArray 2x1 @cpu(0)>\n"
     ]
    }
   ],
   "source": [
    "w = nd.random.normal(scale=0.01, shape=(X.shape[1], 1))\n",
    "b = nd.zeros(1)\n",
    "print(w)\n",
    "w.attach_grad()\n",
    "b.attach_grad()\n",
    "epochs = 10\n",
    "batch_size = 10\n",
    "lr = 0.1"
   ]
  },
  {
   "cell_type": "code",
   "execution_count": 146,
   "metadata": {},
   "outputs": [
    {
     "name": "stdout",
     "output_type": "stream",
     "text": [
      "Epoch 0 Loss: 4.877576066064648e-05\n",
      "Epoch 1 Loss: 4.792332401848398e-05\n",
      "Epoch 2 Loss: 5.0487014959799126e-05\n",
      "Epoch 3 Loss: 4.844959403271787e-05\n",
      "Epoch 4 Loss: 4.912050280836411e-05\n",
      "Epoch 5 Loss: 4.8942867579171434e-05\n",
      "Epoch 6 Loss: 4.864722359343432e-05\n",
      "Epoch 7 Loss: 4.856755185755901e-05\n",
      "Epoch 8 Loss: 4.9007012421498075e-05\n",
      "Epoch 9 Loss: 4.856191299040802e-05\n"
     ]
    }
   ],
   "source": [
    "for epoch in range(epochs):\n",
    "    for features, labels in data_iter(X, y, batch_size):\n",
    "        with autograd.record():\n",
    "            y_hat = model(w, b, features)\n",
    "            l = loss(y_hat, labels)\n",
    "        l.backward()\n",
    "        w[:] -= (lr / batch_size) * w.grad\n",
    "        b[:] -= (lr / batch_size) * b.grad\n",
    "    epoch_loss = loss(model(w, b, X), y)\n",
    "    print(\"Epoch {} Loss: {}\".format(epoch, epoch_loss.mean().asscalar()))"
   ]
  },
  {
   "cell_type": "code",
   "execution_count": 147,
   "metadata": {},
   "outputs": [
    {
     "name": "stdout",
     "output_type": "stream",
     "text": [
      "Error in w is: [[ 9.4437599e-04  1.6009443e+00]\n",
      " [-1.5994844e+00  5.1546097e-04]]\n"
     ]
    }
   ],
   "source": [
    "print(\"Error in w is:\", (true_w-w).asnumpy())"
   ]
  },
  {
   "cell_type": "code",
   "execution_count": null,
   "metadata": {},
   "outputs": [],
   "source": []
  }
 ],
 "metadata": {
  "kernelspec": {
   "display_name": "Python 3",
   "language": "python",
   "name": "python3"
  },
  "language_info": {
   "codemirror_mode": {
    "name": "ipython",
    "version": 3
   },
   "file_extension": ".py",
   "mimetype": "text/x-python",
   "name": "python",
   "nbconvert_exporter": "python",
   "pygments_lexer": "ipython3",
   "version": "3.6.7"
  }
 },
 "nbformat": 4,
 "nbformat_minor": 2
}
