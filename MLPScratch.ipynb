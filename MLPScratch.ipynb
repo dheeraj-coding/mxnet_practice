{
 "cells": [
  {
   "cell_type": "code",
   "execution_count": 4,
   "metadata": {},
   "outputs": [],
   "source": [
    "import matplotlib.pyplot as plt\n",
    "from mxnet import autograd, nd, gluon\n",
    "from mxnet.gluon.data.vision import transforms"
   ]
  },
  {
   "cell_type": "code",
   "execution_count": 5,
   "metadata": {},
   "outputs": [],
   "source": [
    "def get_dataloader(batch_size):\n",
    "    transformer = transforms.Compose([\n",
    "        transforms.ToTensor()\n",
    "    ])\n",
    "    train = gluon.data.vision.datasets.FashionMNIST(train=True)\n",
    "    train = train.transform_first(transformer)\n",
    "    train_iter = gluon.data.DataLoader(train, batch_size=batch_size, shuffle=True, num_workers=4)\n",
    "    test = gluon.data.vision.datasets.FashionMNIST(train=False)\n",
    "    test = test.transform_first(transformer)\n",
    "    test_iter = gluon.data.DataLoader(test, batch_size=batch_size, shuffle=False, num_workers=4)\n",
    "    return train_iter, test_iter"
   ]
  },
  {
   "cell_type": "code",
   "execution_count": 12,
   "metadata": {},
   "outputs": [],
   "source": [
    "def show_images(X, nrows, ncols):\n",
    "    fig, axes = plt.subplots(nrows, ncols)\n",
    "    axes = axes.flatten()\n",
    "    for img, ax in zip(X, axes):\n",
    "        ax.imshow(img)\n",
    "        ax.get_xaxis().set_visible(False)\n",
    "        ax.get_yaxis().set_visible(False)\n",
    "    plt.show()\n",
    "    return axes"
   ]
  },
  {
   "cell_type": "code",
   "execution_count": 39,
   "metadata": {},
   "outputs": [],
   "source": [
    "def accuracy(net, data_iter):\n",
    "    acc = 0\n",
    "    size = 0\n",
    "    for X, y in data_iter:\n",
    "        res = net(X)\n",
    "        y_hat = softmax(res)\n",
    "        acc += (y_hat.argmax(axis=1) == y.astype('float32')).sum().asscalar()\n",
    "        size += len(y)\n",
    "    return acc / size"
   ]
  },
  {
   "cell_type": "code",
   "execution_count": 24,
   "metadata": {},
   "outputs": [],
   "source": [
    "def softmax(X):\n",
    "    X_exp = X.exp()\n",
    "    normalization_constant = X_exp.sum(axis=1, keepdims=True)\n",
    "    return X_exp / normalization_constant"
   ]
  },
  {
   "cell_type": "code",
   "execution_count": 14,
   "metadata": {},
   "outputs": [],
   "source": [
    "def net(X):\n",
    "    X = X.reshape((-1, num_inputs))\n",
    "    H = nd.dot(X, W1) + b1\n",
    "    H = H.relu()\n",
    "    O = nd.dot(H, W2) + b2\n",
    "    return O"
   ]
  },
  {
   "cell_type": "code",
   "execution_count": 17,
   "metadata": {},
   "outputs": [],
   "source": [
    "batch_size = 256\n",
    "train_iter, test_iter = get_dataloader(batch_size)"
   ]
  },
  {
   "cell_type": "code",
   "execution_count": 18,
   "metadata": {},
   "outputs": [],
   "source": [
    "num_inputs = 28 * 28\n",
    "num_hidden = 256\n",
    "num_output = 10"
   ]
  },
  {
   "cell_type": "code",
   "execution_count": 23,
   "metadata": {},
   "outputs": [],
   "source": [
    "W1 = nd.random.normal(scale=0.01, shape=(num_inputs, num_hidden))\n",
    "b1 = nd.zeros(num_hidden)\n",
    "W2 = nd.random.normal(scale=0.01, shape=(num_hidden, num_output))\n",
    "b2 = nd.zeros(num_output)\n",
    "params = [W1, b1, W2, b2]\n",
    "for param in params:\n",
    "    param.attach_grad()"
   ]
  },
  {
   "cell_type": "code",
   "execution_count": 42,
   "metadata": {},
   "outputs": [
    {
     "name": "stdout",
     "output_type": "stream",
     "text": [
      "Epoch 0, acc 0.867200\n",
      "Epoch 1, acc 0.863100\n",
      "Epoch 2, acc 0.871100\n",
      "Epoch 3, acc 0.871200\n",
      "Epoch 4, acc 0.873800\n",
      "Epoch 5, acc 0.875400\n",
      "Epoch 6, acc 0.877300\n",
      "Epoch 7, acc 0.877300\n",
      "Epoch 8, acc 0.878700\n",
      "Epoch 9, acc 0.875600\n",
      "Epoch 10, acc 0.881900\n",
      "Epoch 11, acc 0.879400\n",
      "Epoch 12, acc 0.883200\n",
      "Epoch 13, acc 0.876400\n",
      "Epoch 14, acc 0.878000\n",
      "Epoch 15, acc 0.885300\n",
      "Epoch 16, acc 0.884300\n",
      "Epoch 17, acc 0.886200\n",
      "Epoch 18, acc 0.883500\n",
      "Epoch 19, acc 0.884100\n"
     ]
    }
   ],
   "source": [
    "loss = gluon.loss.SoftmaxCrossEntropyLoss()\n",
    "epochs = 20\n",
    "lr = 0.1\n",
    "for epoch in range(epochs):\n",
    "    for X, y in train_iter:\n",
    "        with autograd.record():\n",
    "            res = net(X)\n",
    "            l = loss(res, y)\n",
    "        l.backward()\n",
    "        for param in params:\n",
    "            param[:] = param - (lr/batch_size) * param.grad\n",
    "    epoch_acc = accuracy(net, test_iter)\n",
    "    print(\"Epoch %d, acc %f\" % (epoch, epoch_acc))"
   ]
  },
  {
   "cell_type": "code",
   "execution_count": 22,
   "metadata": {},
   "outputs": [
    {
     "data": {
      "image/png": "[encoded data removed]",
      "text/plain": [
       "<Figure size 432x288 with 10 Axes>"
      ]
     },
     "metadata": {
      "needs_background": "light"
     },
     "output_type": "display_data"
    },
    {
     "name": "stdout",
     "output_type": "stream",
     "text": [
      "(256, 28, 28)\n",
      "(256, 10)\n"
     ]
    }
   ],
   "source": [
    "for X, y in train_iter:\n",
    "    X = X.squeeze(axis=1)\n",
    "    show_images(X.asnumpy(), 2, 5)\n",
    "    res = net(X)\n",
    "    print(X.shape)\n",
    "    print(res.shape)\n",
    "    break"
   ]
  }
 ],
 "metadata": {
  "kernelspec": {
   "display_name": "Python 3",
   "language": "python",
   "name": "python3"
  },
  "language_info": {
   "codemirror_mode": {
    "name": "ipython",
    "version": 3
   },
   "file_extension": ".py",
   "mimetype": "text/x-python",
   "name": "python",
   "nbconvert_exporter": "python",
   "pygments_lexer": "ipython3",
   "version": "3.6.7"
  }
 },
 "nbformat": 4,
 "nbformat_minor": 2
}
