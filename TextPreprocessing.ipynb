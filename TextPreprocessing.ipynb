{
 "cells": [
  {
   "cell_type": "code",
   "execution_count": 1,
   "metadata": {},
   "outputs": [],
   "source": [
    "import matplotlib.pyplot as plt\n",
    "from mxnet import nd, autograd, gluon, init, context\n",
    "from mxnet.gluon import nn\n",
    "from IPython import display"
   ]
  },
  {
   "cell_type": "code",
   "execution_count": 2,
   "metadata": {},
   "outputs": [],
   "source": [
    "import collections\n",
    "import re"
   ]
  },
  {
   "cell_type": "code",
   "execution_count": 8,
   "metadata": {},
   "outputs": [],
   "source": [
    "def read_time_machine():\n",
    "    with open('./data/timemachine.txt', 'r') as f:\n",
    "        lines = f.readlines()\n",
    "    return [re.sub('[^A-Za-z]+', ' ', line.strip().lower()) for line in lines]\n",
    "\n",
    "lines = read_time_machine()"
   ]
  },
  {
   "cell_type": "code",
   "execution_count": 10,
   "metadata": {},
   "outputs": [
    {
     "name": "stdout",
     "output_type": "stream",
     "text": [
      "['the time machine by h g wells ', '', '', '', '', 'i', '', '', 'the time traveller for so it will be convenient to speak of him ', 'was expounding a recondite matter to us his grey eyes shone and']\n"
     ]
    }
   ],
   "source": [
    "print(lines[0:10])"
   ]
  },
  {
   "cell_type": "code",
   "execution_count": 11,
   "metadata": {},
   "outputs": [],
   "source": [
    "def tokenize(lines):\n",
    "    return [line.split(' ') for line in lines]"
   ]
  },
  {
   "cell_type": "code",
   "execution_count": 12,
   "metadata": {},
   "outputs": [],
   "source": [
    "tokens = tokenize(lines)"
   ]
  },
  {
   "cell_type": "code",
   "execution_count": 13,
   "metadata": {},
   "outputs": [
    {
     "name": "stdout",
     "output_type": "stream",
     "text": [
      "[['the', 'time', 'machine', 'by', 'h', 'g', 'wells', ''], ['']]\n"
     ]
    }
   ],
   "source": [
    "print(tokens[0:2])"
   ]
  },
  {
   "cell_type": "code",
   "execution_count": 86,
   "metadata": {},
   "outputs": [],
   "source": [
    "class Vocab(object):\n",
    "    def __init__(self, tokens, min_index=0):\n",
    "        self.freqs = count_freqs(tokens)\n",
    "        self.unk, self.unique_tokens = 0, ['<unk>']\n",
    "        self.unique_tokens += [token for (token, freq) in self.freqs.items() if freq >= min_index]\n",
    "        \n",
    "        self.idx_to_tokens, self.tokens_to_idx = [], dict()\n",
    "        for token in self.unique_tokens:\n",
    "            self.idx_to_tokens.append(token)\n",
    "            self.tokens_to_idx[token] = len(self.idx_to_tokens)-1\n",
    "        \n",
    "    @staticmethod\n",
    "    def count_freqs(tokens):\n",
    "        flat = [tk for line in tokens for tk in line]\n",
    "        return collections.Counter(flat)\n",
    "    \n",
    "    def __len__(self):\n",
    "        return len(self.idx_to_tokens)\n",
    "    \n",
    "    def __getitem__(self, index):\n",
    "        if not isinstance(tokens, (list, tuple)):\n",
    "            return self.tokens_to_idx.get(tokens, self.unk)\n",
    "        return [self.tokens_to_idx.get(token, self.unk) for token in tokens]\n",
    "    def to_tokens(self, indices):\n",
    "        if not isinstance(indices, (list, tuple)):\n",
    "            return self.idx_to_tokens[indices]\n",
    "        return [self.idx_to_tokens[index] for index in indices]"
   ]
  },
  {
   "cell_type": "code",
   "execution_count": 87,
   "metadata": {},
   "outputs": [
    {
     "name": "stdout",
     "output_type": "stream",
     "text": [
      "[('<unk>', 0), ('the', 1), ('time', 2), ('machine', 3), ('by', 4), ('h', 5), ('g', 6), ('wells', 7), ('', 8), ('i', 9)]\n"
     ]
    }
   ],
   "source": [
    "vocab = Vocab(tokens)\n",
    "print(list(vocab.tokens_to_idx.items())[:10])"
   ]
  },
  {
   "cell_type": "code",
   "execution_count": null,
   "metadata": {},
   "outputs": [],
   "source": []
  }
 ],
 "metadata": {
  "kernelspec": {
   "display_name": "Python 3",
   "language": "python",
   "name": "python3"
  },
  "language_info": {
   "codemirror_mode": {
    "name": "ipython",
    "version": 3
   },
   "file_extension": ".py",
   "mimetype": "text/x-python",
   "name": "python",
   "nbconvert_exporter": "python",
   "pygments_lexer": "ipython3",
   "version": "3.6.8"
  }
 },
 "nbformat": 4,
 "nbformat_minor": 2
}
