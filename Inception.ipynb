{
 "cells": [
  {
   "cell_type": "code",
   "execution_count": 36,
   "metadata": {},
   "outputs": [],
   "source": [
    "import matplotlib.pyplot as plt\n",
    "from mxnet import autograd, nd, context, init, gluon\n",
    "from mxnet.gluon import nn\n",
    "from mxnet.gluon.data.vision import transforms\n",
    "import numpy as np\n",
    "from IPython import display"
   ]
  },
  {
   "cell_type": "code",
   "execution_count": 37,
   "metadata": {},
   "outputs": [],
   "source": [
    "class Animator(object):\n",
    "    def __init__(self, xlabel=None, ylabel=None, legend=[], xlim=None,\n",
    "                 ylim=None, xscale='linear', yscale='linear', fmts=None,\n",
    "                 nrows=1, ncols=1, figsize=(3.5, 2.5)):\n",
    "        \"\"\"Incrementally plot multiple lines.\"\"\"\n",
    "        self.fig, self.axes = plt.subplots(nrows, ncols, figsize=figsize)\n",
    "        if nrows * ncols == 1: self.axes = [self.axes,]\n",
    "        # use a lambda to capture arguments\n",
    "        self.config_axes = lambda : Animator.set_axes(\n",
    "            self.axes[0], xlabel, ylabel, xlim, ylim, xscale, yscale, legend)\n",
    "        self.X, self.Y, self.fmts = None, None, fmts\n",
    "    \n",
    "    @staticmethod\n",
    "    def set_axes(axes, xlabel, ylabel, xlim, ylim, xscale, yscale, legend):\n",
    "      \"\"\"A utility function to set matplotlib axes\"\"\"\n",
    "      axes.set_xlabel(xlabel)\n",
    "      axes.set_ylabel(ylabel)\n",
    "      axes.set_xscale(xscale)\n",
    "      axes.set_yscale(yscale)\n",
    "      axes.set_xlim(xlim)\n",
    "      axes.set_ylim(ylim)\n",
    "      if legend: axes.legend(legend)\n",
    "      axes.grid()\n",
    "    \n",
    "    def add(self, x, y):\n",
    "        \"\"\"Add multiple data points into the figure.\"\"\"\n",
    "        if not hasattr(y, \"__len__\"): y = [y]\n",
    "        n = len(y)\n",
    "        if not hasattr(x, \"__len__\"): x = [x] * n\n",
    "        if not self.X: self.X = [[] for _ in range(n)]\n",
    "        if not self.Y: self.Y = [[] for _ in range(n)]\n",
    "        if not self.fmts: self.fmts = ['-'] * n\n",
    "        for i, (a, b) in enumerate(zip(x, y)):\n",
    "            if a is not None and b is not None:\n",
    "                self.X[i].append(a)\n",
    "                self.Y[i].append(b)\n",
    "        self.axes[0].cla()\n",
    "        for x, y, fmt in zip(self.X, self.Y, self.fmts):\n",
    "            self.axes[0].plot(x, y, fmt)\n",
    "        self.config_axes()\n",
    "        display.display(self.fig)\n",
    "        display.clear_output(wait=True)"
   ]
  },
  {
   "cell_type": "code",
   "execution_count": 48,
   "metadata": {},
   "outputs": [],
   "source": [
    "def eval_acc(net, data_iter, ctx):\n",
    "    acc = 0\n",
    "    size = 0\n",
    "    for X, y in data_iter:\n",
    "        X, y = X.as_in_context(ctx), y.as_in_context(ctx)\n",
    "        result = net(X).softmax(axis=1).argmax(axis=1)\n",
    "        acc += (result==y.astype('float32')).sum().asscalar()\n",
    "        size += len(y)\n",
    "    return acc/size"
   ]
  },
  {
   "cell_type": "code",
   "execution_count": 2,
   "metadata": {},
   "outputs": [],
   "source": [
    "def get_dataloader(batch_size, resize=None, shuffle=True):\n",
    "    transforms_list = []\n",
    "    if resize is not None:\n",
    "        transforms_list.append(transforms.Resize(resize))\n",
    "    transforms_list.append(transforms.ToTensor())\n",
    "    transformer = transforms.Compose(transforms_list)\n",
    "    train = gluon.data.vision.datasets.FashionMNIST(train=True)\n",
    "    train = train.transform_first(transformer)\n",
    "    train_iter = gluon.data.DataLoader(train, batch_size, shuffle, num_workers=4)\n",
    "    test = gluon.data.vision.datasets.FashionMNIST(train=False)\n",
    "    test = test.transform_first(transformer)\n",
    "    test_iter = gluon.data.DataLoader(test, batch_size, shuffle=False, num_workers=4)\n",
    "    return train_iter, test_iter, train, test"
   ]
  },
  {
   "cell_type": "code",
   "execution_count": 3,
   "metadata": {},
   "outputs": [],
   "source": [
    "def show_images(X, nrows, ncols):\n",
    "    _, axes = plt.subplots(nrows, ncols)\n",
    "    axes = axes.flatten()\n",
    "    for img, ax in zip(X, axes):\n",
    "        ax.imshow(img)\n",
    "        ax.get_xaxis().set_visible(False)\n",
    "        ax.get_xaxis().set_visible(False)\n",
    "    return axes"
   ]
  },
  {
   "cell_type": "code",
   "execution_count": 4,
   "metadata": {},
   "outputs": [],
   "source": [
    "class InceptionBlock(nn.Block):\n",
    "    def __init__(self, c1, c2, c3, c4, **kwargs):\n",
    "        super(InceptionBlock, self).__init__(**kwargs)\n",
    "        self.p1_1 = nn.Conv2D(c1, kernel_size=1, activation='relu')\n",
    "        \n",
    "        self.p2_1 = nn.Conv2D(c2[0], kernel_size=1, activation='relu')\n",
    "        self.p2_2 = nn.Conv2D(c2[1], kernel_size=3, padding=1, activation='relu')\n",
    "        \n",
    "        self.p3_1 = nn.Conv2D(c3[0], kernel_size=1, activation='relu')\n",
    "        self.p3_2 = nn.Conv2D(c3[1], kernel_size=5, padding=2, activation='relu')\n",
    "        \n",
    "        self.p4_1 = nn.MaxPool2D(pool_size=3, strides=1, padding=1)\n",
    "        self.p4_2 = nn.Conv2D(c4, kernel_size=1, activation='relu')\n",
    "        \n",
    "    def forward(self, x):\n",
    "        p1 = self.p1_1(x)\n",
    "        p2 = self.p2_2(self.p2_1(p1))\n",
    "        p3 = self.p3_2(self.p3_1(p2))\n",
    "        p4 = self.p4_2(self.p4_1(p3))\n",
    "        return nd.concat(p1, p2, p3, p4, dim=1)"
   ]
  },
  {
   "cell_type": "code",
   "execution_count": 14,
   "metadata": {},
   "outputs": [],
   "source": [
    "class Inception(nn.Block):\n",
    "    def __init__(self, **kwargs):\n",
    "        super(Inception, self).__init__(**kwargs)\n",
    "        self.network = self.get_network()\n",
    "    def __getitem__(self, key):\n",
    "        return self.network[key]\n",
    "    def __len__(self):\n",
    "        return len(self.network)\n",
    "    def get_network(self):\n",
    "        blk = nn.Sequential()\n",
    "        \n",
    "        b1 = nn.Sequential()\n",
    "        b1.add(nn.Conv2D(64, kernel_size=7, strides=2, padding=3, activation='relu'))\n",
    "        b1.add(nn.MaxPool2D(pool_size=3, strides=2, padding=1))\n",
    "        \n",
    "        b2 = nn.Sequential()\n",
    "        b2.add(nn.Conv2D(64, kernel_size=1, activation='relu'))\n",
    "        b2.add(nn.Conv2D(192, kernel_size=3, padding=1, activation='relu'))\n",
    "        b2.add(nn.MaxPool2D(pool_size=3, strides=2, padding=1))\n",
    "        \n",
    "        b3 = nn.Sequential()\n",
    "        b3.add(InceptionBlock(64, (96, 128), (16, 32), 32))\n",
    "        b3.add(InceptionBlock(128, (128, 192), (32, 96), 64))\n",
    "        b3.add(nn.MaxPool2D(pool_size=3, strides=2, padding=1))\n",
    "        \n",
    "        b4 = nn.Sequential()\n",
    "        b4.add(InceptionBlock(192, (96, 208), (16, 48), 64))\n",
    "        b4.add(InceptionBlock(160, (112, 224), (24, 64), 64))\n",
    "        b4.add(InceptionBlock(128, (128, 256), (24, 64), 64))\n",
    "        b4.add(InceptionBlock(112, (144, 288), (32, 64), 64))\n",
    "        b4.add(InceptionBlock(256, (160, 320), (32, 128), 128))\n",
    "        b4.add(nn.MaxPool2D(pool_size=3, strides=2, padding=1))\n",
    "        \n",
    "        b5 = nn.Sequential()\n",
    "        b5.add(InceptionBlock(256, (160, 320), (32, 128), 128))\n",
    "        b5.add(InceptionBlock(384, (192, 384), (48, 128), 128))\n",
    "        b5.add(nn.GlobalAvgPool2D())\n",
    "        \n",
    "        blk.add(b1, b2, b3, b4, b5, nn.Dense(10))\n",
    "        \n",
    "        return blk\n",
    "    def forward(self, x):\n",
    "        out = self.network(x)\n",
    "        return out"
   ]
  },
  {
   "cell_type": "code",
   "execution_count": 41,
   "metadata": {},
   "outputs": [],
   "source": [
    "batch_size = 4\n",
    "train_iter, test_iter, train, test = get_dataloader(batch_size, resize=None)"
   ]
  },
  {
   "cell_type": "code",
   "execution_count": 42,
   "metadata": {},
   "outputs": [
    {
     "name": "stdout",
     "output_type": "stream",
     "text": [
      "(4, 1, 28, 28)\n",
      "(4,)\n"
     ]
    },
    {
     "data": {
      "image/png": "[encoded data removed]",
      "text/plain": [
       "<Figure size 432x288 with 4 Axes>"
      ]
     },
     "metadata": {
      "needs_background": "light"
     },
     "output_type": "display_data"
    }
   ],
   "source": [
    "for X, y in train_iter:\n",
    "    print(X.shape)\n",
    "    print(y.shape)\n",
    "    show_images(X.squeeze(axis=1).asnumpy(), 2, 2)\n",
    "    break"
   ]
  },
  {
   "cell_type": "code",
   "execution_count": 43,
   "metadata": {},
   "outputs": [
    {
     "data": {
      "image/png": "[encoded data removed]",
      "text/plain": [
       "<Figure size 432x288 with 1 Axes>"
      ]
     },
     "metadata": {
      "needs_background": "light"
     },
     "output_type": "display_data"
    },
    {
     "data": {
      "image/png": "[encoded data removed]",
      "text/plain": [
       "<Figure size 432x288 with 1 Axes>"
      ]
     },
     "metadata": {
      "needs_background": "light"
     },
     "output_type": "display_data"
    }
   ],
   "source": [
    "trainX, trainY = train[:]\n",
    "classes, class_dist = np.unique(trainY, return_counts=True)\n",
    "_, ax = plt.subplots()\n",
    "ax.bar(classes, class_dist)\n",
    "plt.show()\n",
    "testX, testY = test[:]\n",
    "classes, class_dist = np.unique(testY, return_counts=True)\n",
    "_, ax = plt.subplots()\n",
    "ax.bar(classes, class_dist)\n",
    "plt.show()"
   ]
  },
  {
   "cell_type": "code",
   "execution_count": 44,
   "metadata": {},
   "outputs": [
    {
     "name": "stdout",
     "output_type": "stream",
     "text": [
      "sequential63 (1, 64, 24, 24)\n",
      "sequential64 (1, 192, 12, 12)\n",
      "sequential65 (1, 480, 6, 6)\n",
      "sequential66 (1, 832, 3, 3)\n",
      "sequential67 (1, 1024, 1, 1)\n",
      "dense9 (1, 10)\n"
     ]
    }
   ],
   "source": [
    "ctx = context.gpu()\n",
    "net = Inception()\n",
    "net.initialize(init=init.Xavier(), ctx=ctx)\n",
    "\n",
    "testX = nd.random.normal(shape=(1, 1, 96, 96), ctx=ctx)\n",
    "for i in range(len(net)):\n",
    "    layer = net[i]\n",
    "    testX = layer(testX)\n",
    "    print(layer.name, testX.shape)"
   ]
  },
  {
   "cell_type": "code",
   "execution_count": 45,
   "metadata": {},
   "outputs": [
    {
     "name": "stdout",
     "output_type": "stream",
     "text": [
      "\n",
      "[2.3023837]\n",
      "<NDArray 1 @gpu(0)>\n"
     ]
    }
   ],
   "source": [
    "loss = gluon.loss.SoftmaxCrossEntropyLoss()\n",
    "print(loss(testX, nd.array([1]).as_in_context(ctx)).sum())"
   ]
  },
  {
   "cell_type": "code",
   "execution_count": 46,
   "metadata": {},
   "outputs": [],
   "source": [
    "trainer = gluon.Trainer(net.collect_params(), 'adam', {'learning_rate':3e-5})"
   ]
  },
  {
   "cell_type": "code",
   "execution_count": 47,
   "metadata": {},
   "outputs": [
    {
     "data": {
      "image/png": "[encoded data removed]",
      "text/plain": [
       "<Figure size 252x180 with 1 Axes>"
      ]
     },
     "metadata": {
      "needs_background": "light"
     },
     "output_type": "display_data"
    }
   ],
   "source": [
    "epochs = 20\n",
    "animator = Animator(xlabel='epochs', xlim=[0, epochs], legend=['loss'])\n",
    "\n",
    "for epoch in range(epochs):\n",
    "    epoch_loss = 0\n",
    "    for X, y in train_iter:\n",
    "        X, y = X.as_in_context(ctx), y.as_in_context(ctx)\n",
    "        with autograd.record():\n",
    "            l = loss(net(X), y)\n",
    "        l.backward()\n",
    "        trainer.step(batch_size)\n",
    "        epoch_loss += l.sum().asscalar()\n",
    "    animator.add(epoch, (epoch_loss))"
   ]
  },
  {
   "cell_type": "code",
   "execution_count": 51,
   "metadata": {},
   "outputs": [],
   "source": [
    "acc = eval_acc(net, test_iter, ctx)"
   ]
  },
  {
   "cell_type": "code",
   "execution_count": 52,
   "metadata": {},
   "outputs": [
    {
     "name": "stdout",
     "output_type": "stream",
     "text": [
      "0.9131\n"
     ]
    }
   ],
   "source": [
    "print(acc)"
   ]
  }
 ],
 "metadata": {
  "kernelspec": {
   "display_name": "Python 3",
   "language": "python",
   "name": "python3"
  },
  "language_info": {
   "codemirror_mode": {
    "name": "ipython",
    "version": 3
   },
   "file_extension": ".py",
   "mimetype": "text/x-python",
   "name": "python",
   "nbconvert_exporter": "python",
   "pygments_lexer": "ipython3",
   "version": "3.6.7"
  }
 },
 "nbformat": 4,
 "nbformat_minor": 2
}
