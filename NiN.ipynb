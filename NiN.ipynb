{
 "cells": [
  {
   "cell_type": "code",
   "execution_count": 2,
   "metadata": {
    "colab": {
     "base_uri": "https://localhost:8080/",
     "height": 306
    },
    "colab_type": "code",
    "id": "1kZvNtnQSVYm",
    "outputId": "6b51f363-3345-45ce-b89d-f7782ceeaf88"
   },
   "outputs": [
    {
     "name": "stdout",
     "output_type": "stream",
     "text": [
      "Sat Aug 24 16:56:33 2019       \r\n",
      "+-----------------------------------------------------------------------------+\r\n",
      "| NVIDIA-SMI 410.104      Driver Version: 410.104      CUDA Version: 10.0     |\r\n",
      "|-------------------------------+----------------------+----------------------+\r\n",
      "| GPU  Name        Persistence-M| Bus-Id        Disp.A | Volatile Uncorr. ECC |\r\n",
      "| Fan  Temp  Perf  Pwr:Usage/Cap|         Memory-Usage | GPU-Util  Compute M. |\r\n",
      "|===============================+======================+======================|\r\n",
      "|   0  GeForce GTX 105...  Off  | 00000000:01:00.0 Off |                  N/A |\r\n",
      "| N/A   54C    P0    N/A /  N/A |    300MiB /  4040MiB |      1%      Default |\r\n",
      "+-------------------------------+----------------------+----------------------+\r\n",
      "                                                                               \r\n",
      "+-----------------------------------------------------------------------------+\r\n",
      "| Processes:                                                       GPU Memory |\r\n",
      "|  GPU       PID   Type   Process name                             Usage      |\r\n",
      "|=============================================================================|\r\n",
      "|    0      1074      G   /usr/lib/xorg/Xorg                           151MiB |\r\n",
      "|    0      1446      G   kwin_x11                                      33MiB |\r\n",
      "|    0      1450      G   /usr/bin/krunner                               7MiB |\r\n",
      "|    0      1452      G   /usr/bin/plasmashell                          49MiB |\r\n",
      "|    0      2169      G   ...uest-channel-token=12231803884018823537    54MiB |\r\n",
      "+-----------------------------------------------------------------------------+\r\n"
     ]
    }
   ],
   "source": [
    "!nvidia-smi"
   ]
  },
  {
   "cell_type": "code",
   "execution_count": 3,
   "metadata": {
    "colab": {},
    "colab_type": "code",
    "id": "5qMtOcoaSkNI"
   },
   "outputs": [],
   "source": [
    "import matplotlib.pyplot as plt\n",
    "from mxnet import autograd, gluon, nd, init, context\n",
    "from mxnet.gluon import nn\n",
    "from mxnet.gluon.data.vision import transforms\n",
    "from IPython import display\n",
    "import numpy as np"
   ]
  },
  {
   "cell_type": "code",
   "execution_count": 4,
   "metadata": {
    "colab": {},
    "colab_type": "code",
    "id": "IbRLFfJSdgtI"
   },
   "outputs": [],
   "source": [
    "class Animator(object):\n",
    "    def __init__(self, xlabel=None, ylabel=None, legend=[], xlim=None,\n",
    "                 ylim=None, xscale='linear', yscale='linear', fmts=None,\n",
    "                 nrows=1, ncols=1, figsize=(3.5, 2.5)):\n",
    "        \"\"\"Incrementally plot multiple lines.\"\"\"\n",
    "        self.fig, self.axes = plt.subplots(nrows, ncols, figsize=figsize)\n",
    "        if nrows * ncols == 1: self.axes = [self.axes,]\n",
    "        # use a lambda to capture arguments\n",
    "        self.config_axes = lambda : Animator.set_axes(\n",
    "            self.axes[0], xlabel, ylabel, xlim, ylim, xscale, yscale, legend)\n",
    "        self.X, self.Y, self.fmts = None, None, fmts\n",
    "    \n",
    "    @staticmethod\n",
    "    def set_axes(axes, xlabel, ylabel, xlim, ylim, xscale, yscale, legend):\n",
    "      \"\"\"A utility function to set matplotlib axes\"\"\"\n",
    "      axes.set_xlabel(xlabel)\n",
    "      axes.set_ylabel(ylabel)\n",
    "      axes.set_xscale(xscale)\n",
    "      axes.set_yscale(yscale)\n",
    "      axes.set_xlim(xlim)\n",
    "      axes.set_ylim(ylim)\n",
    "      if legend: axes.legend(legend)\n",
    "      axes.grid()\n",
    "    \n",
    "    def add(self, x, y):\n",
    "        \"\"\"Add multiple data points into the figure.\"\"\"\n",
    "        if not hasattr(y, \"__len__\"): y = [y]\n",
    "        n = len(y)\n",
    "        if not hasattr(x, \"__len__\"): x = [x] * n\n",
    "        if not self.X: self.X = [[] for _ in range(n)]\n",
    "        if not self.Y: self.Y = [[] for _ in range(n)]\n",
    "        if not self.fmts: self.fmts = ['-'] * n\n",
    "        for i, (a, b) in enumerate(zip(x, y)):\n",
    "            if a is not None and b is not None:\n",
    "                self.X[i].append(a)\n",
    "                self.Y[i].append(b)\n",
    "        self.axes[0].cla()\n",
    "        for x, y, fmt in zip(self.X, self.Y, self.fmts):\n",
    "            self.axes[0].plot(x, y, fmt)\n",
    "        self.config_axes()\n",
    "        display.display(self.fig)\n",
    "        display.clear_output(wait=True)"
   ]
  },
  {
   "cell_type": "code",
   "execution_count": 5,
   "metadata": {
    "colab": {},
    "colab_type": "code",
    "id": "GZMntmfyS6XZ"
   },
   "outputs": [],
   "source": [
    "def get_dataloader(batch_size, resize=None, shuffle=True):\n",
    "  transform_list = []\n",
    "  if(resize != None):\n",
    "    transform_list.append(transforms.Resize(resize))\n",
    "  transform_list.append(transforms.ToTensor())\n",
    "  transformer = transforms.Compose(transform_list)\n",
    "  \n",
    "  train = gluon.data.vision.datasets.FashionMNIST(train=True)\n",
    "  train = train.transform_first(transformer)\n",
    "  train_iter = gluon.data.DataLoader(train, batch_size, shuffle=shuffle, num_workers=4)\n",
    "  test = gluon.data.vision.datasets.FashionMNIST(train=False)\n",
    "  test = test.transform_first(transformer)\n",
    "  test_iter = gluon.data.DataLoader(test, batch_size, shuffle=False, num_workers=4)\n",
    "  return train_iter, test_iter, train, test"
   ]
  },
  {
   "cell_type": "code",
   "execution_count": 6,
   "metadata": {
    "colab": {},
    "colab_type": "code",
    "id": "so56doHqULsj"
   },
   "outputs": [],
   "source": [
    "def show_images(X, nrows, ncols):\n",
    "  _, axes = plt.subplots(nrows, ncols)\n",
    "  axes = axes.flatten()\n",
    "  \n",
    "  for img, ax in zip(X, axes):\n",
    "    ax.imshow(img)\n",
    "    ax.get_xaxis().set_visible(False)\n",
    "    ax.get_yaxis().set_visible(False)\n",
    "  return axes"
   ]
  },
  {
   "cell_type": "code",
   "execution_count": 7,
   "metadata": {
    "colab": {},
    "colab_type": "code",
    "id": "PQbCjjJCfTG0"
   },
   "outputs": [],
   "source": [
    "def eval_loss(net, data_iter, loss, ctx, one_batch=False):\n",
    "  l = 0\n",
    "  size = 0\n",
    "  for X, y in data_iter:\n",
    "    X, y = X.as_in_context(ctx), y.as_in_context(ctx)\n",
    "    l += loss(net(X), y).sum().asscalar()\n",
    "    size += len(y)\n",
    "    if one_batch:\n",
    "        break\n",
    "  return l / size"
   ]
  },
  {
   "cell_type": "code",
   "execution_count": 8,
   "metadata": {
    "colab": {},
    "colab_type": "code",
    "id": "8KQWWIQQfmBj"
   },
   "outputs": [],
   "source": [
    "def eval_acc(net, data_iter, ctx, one_batch=False):\n",
    "  acc = 0\n",
    "  size = 0\n",
    "  for X, y in data_iter:\n",
    "    X, y = X.as_in_context(ctx), y.as_in_context(ctx)\n",
    "    result = net(X).softmax(axis=1).argmax(axis=1)\n",
    "    acc += (result == y.astype('float32')).sum().asscalar()\n",
    "    size += len(y)\n",
    "    if one_batch:\n",
    "        break\n",
    "  return acc / size"
   ]
  },
  {
   "cell_type": "code",
   "execution_count": 9,
   "metadata": {},
   "outputs": [],
   "source": [
    "def evaluate(net, data_iter, loss, ctx, one_batch=False):\n",
    "    acc = 0\n",
    "    l = 0\n",
    "    size = 0\n",
    "    for X, y in data_iter:\n",
    "        X, y = X.as_in_context(ctx), y.as_in_context(ctx)\n",
    "        result = net(X)\n",
    "        l += loss(result, y).sum().asscalar()\n",
    "        acc += (result.softmax(axis=1).argmax(axis=1) == y.astype('float32')).sum().asscalar()\n",
    "        size += len(y)\n",
    "    return l/size, acc /size"
   ]
  },
  {
   "cell_type": "code",
   "execution_count": 10,
   "metadata": {
    "colab": {},
    "colab_type": "code",
    "id": "-fEutMYtWWZ4"
   },
   "outputs": [],
   "source": [
    "class NiN(nn.Block):\n",
    "  def __init__(self, config, num_classes, **kwargs):\n",
    "    super(NiN, self).__init__(**kwargs)\n",
    "    self.config = config\n",
    "    self.net = self.get_network(config, num_classes)\n",
    "  \n",
    "  def forward(self, x):\n",
    "    x = self.net(x)\n",
    "    return x\n",
    "  \n",
    "  def __getitem__(self, key):\n",
    "    return self.net[key]\n",
    "  \n",
    "  def __len__(self):\n",
    "    return len(self.config)+3\n",
    "\n",
    "  def nin_block(self, num_channels, kernel_size, strides, padding):\n",
    "    blk = nn.Sequential()\n",
    "    blk.add(nn.Conv2D(num_channels, kernel_size, strides, padding, activation='relu'))\n",
    "    blk.add(nn.Conv2D(num_channels, kernel_size=1, activation='relu'))\n",
    "    blk.add(nn.Conv2D(num_channels, kernel_size=1, activation='relu'))\n",
    "    return blk\n",
    "  \n",
    "  def get_network(self, config, num_classes):\n",
    "    net = nn.Sequential()\n",
    "    for vals in config:\n",
    "      if vals[0] == 'pool':\n",
    "        net.add(nn.MaxPool2D(*vals[1:]))\n",
    "      else:\n",
    "        net.add(self.nin_block(*vals[1:]))\n",
    "    net.add(nn.GlobalAvgPool2D())\n",
    "    net.add(nn.Flatten())\n",
    "    return net\n",
    "    "
   ]
  },
  {
   "cell_type": "code",
   "execution_count": 11,
   "metadata": {
    "colab": {},
    "colab_type": "code",
    "id": "MAbO0mT7TuOz"
   },
   "outputs": [],
   "source": [
    "batch_size = 2\n",
    "resize = 224\n",
    "config = [('mlpconv', 96, 11, 4, 0), ('pool', 3, 2), ('mlpconv', 256, 5, 1, 2), ('pool', 3, 2), ('mlpconv', 384, 3, 1, 1), ('pool', 3, 2), ('mlpconv', 10, 3, 1, 1)]\n",
    "num_classes = 10\n",
    "\n",
    "train_iter, test_iter, train, test = get_dataloader(batch_size, resize, shuffle=True)"
   ]
  },
  {
   "cell_type": "code",
   "execution_count": 12,
   "metadata": {
    "colab": {},
    "colab_type": "code",
    "id": "IYwoycDhz5tY"
   },
   "outputs": [
    {
     "name": "stdout",
     "output_type": "stream",
     "text": [
      "(2, 1, 224, 224)\n",
      "(2,)\n"
     ]
    },
    {
     "data": {
      "image/png": "[encoded data removed]",
      "text/plain": [
       "<Figure size 432x288 with 10 Axes>"
      ]
     },
     "metadata": {
      "needs_background": "light"
     },
     "output_type": "display_data"
    }
   ],
   "source": [
    "for X, y in train_iter:\n",
    "  print(X.shape)\n",
    "  print(y.shape)\n",
    "  show_images(X.squeeze(axis=1).asnumpy(), 2, 5)\n",
    "  break"
   ]
  },
  {
   "cell_type": "code",
   "execution_count": 13,
   "metadata": {
    "colab": {
     "base_uri": "https://localhost:8080/",
     "height": 238
    },
    "colab_type": "code",
    "id": "0qdysT5FZh5e",
    "outputId": "2142d1b4-f6c9-4ddd-8691-1e3cfb30e3e2"
   },
   "outputs": [
    {
     "name": "stdout",
     "output_type": "stream",
     "text": [
      "sequential1 (1, 96, 54, 54)\n",
      "pool0 (1, 96, 26, 26)\n",
      "sequential2 (1, 256, 26, 26)\n",
      "pool1 (1, 256, 12, 12)\n",
      "sequential3 (1, 384, 12, 12)\n",
      "pool2 (1, 384, 5, 5)\n",
      "sequential4 (1, 10, 5, 5)\n",
      "pool3 (1, 10, 1, 1)\n",
      "flatten0 (1, 10)\n",
      "\n",
      "[[1.14461436e-04 4.03921367e-05 3.57319741e-03 2.06002413e-04\n",
      "  6.29552407e-04 3.20947147e-04 4.94896900e-04 1.81540468e-04\n",
      "  2.83007015e-04 2.05977727e-03]]\n",
      "<NDArray 1x10 @gpu(0)>\n"
     ]
    }
   ],
   "source": [
    "ctx = context.gpu()\n",
    "\n",
    "net = NiN(config, num_classes)\n",
    "net.initialize(init=init.Xavier(), ctx=ctx)\n",
    "\n",
    "testX = nd.random.normal(shape=(1, 1, 224, 224), ctx=ctx)\n",
    "\n",
    "for layer in net:\n",
    "  testX = layer(testX)\n",
    "  print(layer.name, testX.shape)\n",
    "\n",
    "print(testX)"
   ]
  },
  {
   "cell_type": "code",
   "execution_count": 14,
   "metadata": {
    "colab": {
     "base_uri": "https://localhost:8080/",
     "height": 459
    },
    "colab_type": "code",
    "id": "0rCuIsbk8cYY",
    "outputId": "c99000e4-0f6f-4b3a-8eef-c93325e9e80e"
   },
   "outputs": [
    {
     "name": "stdout",
     "output_type": "stream",
     "text": [
      "nin0_ (\n",
      "  Parameter conv0_weight (shape=(96, 1, 11, 11), dtype=<class 'numpy.float32'>)\n",
      "  Parameter conv0_bias (shape=(96,), dtype=<class 'numpy.float32'>)\n",
      "  Parameter conv1_weight (shape=(96, 96, 1, 1), dtype=<class 'numpy.float32'>)\n",
      "  Parameter conv1_bias (shape=(96,), dtype=<class 'numpy.float32'>)\n",
      "  Parameter conv2_weight (shape=(96, 96, 1, 1), dtype=<class 'numpy.float32'>)\n",
      "  Parameter conv2_bias (shape=(96,), dtype=<class 'numpy.float32'>)\n",
      "  Parameter conv3_weight (shape=(256, 96, 5, 5), dtype=<class 'numpy.float32'>)\n",
      "  Parameter conv3_bias (shape=(256,), dtype=<class 'numpy.float32'>)\n",
      "  Parameter conv4_weight (shape=(256, 256, 1, 1), dtype=<class 'numpy.float32'>)\n",
      "  Parameter conv4_bias (shape=(256,), dtype=<class 'numpy.float32'>)\n",
      "  Parameter conv5_weight (shape=(256, 256, 1, 1), dtype=<class 'numpy.float32'>)\n",
      "  Parameter conv5_bias (shape=(256,), dtype=<class 'numpy.float32'>)\n",
      "  Parameter conv6_weight (shape=(384, 256, 3, 3), dtype=<class 'numpy.float32'>)\n",
      "  Parameter conv6_bias (shape=(384,), dtype=<class 'numpy.float32'>)\n",
      "  Parameter conv7_weight (shape=(384, 384, 1, 1), dtype=<class 'numpy.float32'>)\n",
      "  Parameter conv7_bias (shape=(384,), dtype=<class 'numpy.float32'>)\n",
      "  Parameter conv8_weight (shape=(384, 384, 1, 1), dtype=<class 'numpy.float32'>)\n",
      "  Parameter conv8_bias (shape=(384,), dtype=<class 'numpy.float32'>)\n",
      "  Parameter conv9_weight (shape=(10, 384, 3, 3), dtype=<class 'numpy.float32'>)\n",
      "  Parameter conv9_bias (shape=(10,), dtype=<class 'numpy.float32'>)\n",
      "  Parameter conv10_weight (shape=(10, 10, 1, 1), dtype=<class 'numpy.float32'>)\n",
      "  Parameter conv10_bias (shape=(10,), dtype=<class 'numpy.float32'>)\n",
      "  Parameter conv11_weight (shape=(10, 10, 1, 1), dtype=<class 'numpy.float32'>)\n",
      "  Parameter conv11_bias (shape=(10,), dtype=<class 'numpy.float32'>)\n",
      ")\n"
     ]
    }
   ],
   "source": [
    "print(net.collect_params())"
   ]
  },
  {
   "cell_type": "code",
   "execution_count": null,
   "metadata": {
    "colab": {
     "base_uri": "https://localhost:8080/",
     "height": 530
    },
    "colab_type": "code",
    "id": "7xOSmoei88iQ",
    "outputId": "4057b2f6-d66c-4a7c-83c7-9e48416aab9e"
   },
   "outputs": [],
   "source": [
    "acc = eval_acc(net, train_iter, ctx)\n",
    "print(acc)"
   ]
  },
  {
   "cell_type": "code",
   "execution_count": 15,
   "metadata": {},
   "outputs": [
    {
     "name": "stdout",
     "output_type": "stream",
     "text": [
      "\n",
      "[4.605628]\n",
      "<NDArray 1 @gpu(0)>\n",
      "\n",
      "[[0. 0. 0. 0. 0. 0. 0. 0. 0. 0.]]\n",
      "<NDArray 1x10 @gpu(0)>\n"
     ]
    }
   ],
   "source": [
    "loss = gluon.loss.SoftmaxCrossEntropyLoss()\n",
    "l = 0\n",
    "for X, y in train_iter:\n",
    "    X, y = X.as_in_context(ctx), y.as_in_context(ctx)\n",
    "    l += loss(net(X), y).sum()\n",
    "    break\n",
    "print(l)\n",
    "zeros = nd.zeros(shape=(1, 1, 224, 224)).as_in_context(ctx)\n",
    "print(net(zeros))"
   ]
  },
  {
   "cell_type": "code",
   "execution_count": 17,
   "metadata": {
    "colab": {
     "base_uri": "https://localhost:8080/",
     "height": 545
    },
    "colab_type": "code",
    "id": "datmOFUQc8HF",
    "outputId": "32413ae6-4d1f-4474-86d6-55d744dec7c5"
   },
   "outputs": [
    {
     "ename": "MXNetError",
     "evalue": "[16:58:39] src/storage/./pooled_storage_manager.h:157: cudaMalloc failed: out of memory\nStack trace:\n  [bt] (0) /home/mcdhee/Documents/d2l/env/lib/python3.6/site-packages/mxnet/libmxnet.so(+0x4b04cb) [0x7f5e7e0154cb]\n  [bt] (1) /home/mcdhee/Documents/d2l/env/lib/python3.6/site-packages/mxnet/libmxnet.so(+0x2e6540b) [0x7f5e809ca40b]\n  [bt] (2) /home/mcdhee/Documents/d2l/env/lib/python3.6/site-packages/mxnet/libmxnet.so(+0x2e6af2f) [0x7f5e809cff2f]\n  [bt] (3) /home/mcdhee/Documents/d2l/env/lib/python3.6/site-packages/mxnet/libmxnet.so(mxnet::NDArray::CheckAndAlloc() const+0x1cc) [0x7f5e7e08daac]\n  [bt] (4) /home/mcdhee/Documents/d2l/env/lib/python3.6/site-packages/mxnet/libmxnet.so(+0x2667fed) [0x7f5e801ccfed]\n  [bt] (5) /home/mcdhee/Documents/d2l/env/lib/python3.6/site-packages/mxnet/libmxnet.so(mxnet::imperative::PushFCompute(std::function<void (nnvm::NodeAttrs const&, mxnet::OpContext const&, std::vector<mxnet::TBlob, std::allocator<mxnet::TBlob> > const&, std::vector<mxnet::OpReqType, std::allocator<mxnet::OpReqType> > const&, std::vector<mxnet::TBlob, std::allocator<mxnet::TBlob> > const&)> const&, nnvm::Op const*, nnvm::NodeAttrs const&, mxnet::Context const&, std::vector<mxnet::engine::Var*, std::allocator<mxnet::engine::Var*> > const&, std::vector<mxnet::engine::Var*, std::allocator<mxnet::engine::Var*> > const&, std::vector<mxnet::Resource, std::allocator<mxnet::Resource> > const&, std::vector<mxnet::NDArray*, std::allocator<mxnet::NDArray*> > const&, std::vector<mxnet::NDArray*, std::allocator<mxnet::NDArray*> > const&, std::vector<unsigned int, std::allocator<unsigned int> > const&, std::vector<mxnet::OpReqType, std::allocator<mxnet::OpReqType> > const&)::{lambda(mxnet::RunContext)#1}::operator()(mxnet::RunContext) const+0x20f) [0x7f5e801cd4bf]\n  [bt] (6) /home/mcdhee/Documents/d2l/env/lib/python3.6/site-packages/mxnet/libmxnet.so(+0x25b5515) [0x7f5e8011a515]\n  [bt] (7) /home/mcdhee/Documents/d2l/env/lib/python3.6/site-packages/mxnet/libmxnet.so(+0x25c1ce1) [0x7f5e80126ce1]\n  [bt] (8) /home/mcdhee/Documents/d2l/env/lib/python3.6/site-packages/mxnet/libmxnet.so(+0x25c51f0) [0x7f5e8012a1f0]\n\n",
     "output_type": "error",
     "traceback": [
      "\u001b[0;31m---------------------------------------------------------------------------\u001b[0m",
      "\u001b[0;31mMXNetError\u001b[0m                                Traceback (most recent call last)",
      "\u001b[0;32m<ipython-input-17-667421c850b2>\u001b[0m in \u001b[0;36m<module>\u001b[0;34m\u001b[0m\n\u001b[1;32m     11\u001b[0m     \u001b[0mtrainer\u001b[0m\u001b[0;34m.\u001b[0m\u001b[0mstep\u001b[0m\u001b[0;34m(\u001b[0m\u001b[0mbatch_size\u001b[0m\u001b[0;34m)\u001b[0m\u001b[0;34m\u001b[0m\u001b[0;34m\u001b[0m\u001b[0m\n\u001b[1;32m     12\u001b[0m   \u001b[0;32mif\u001b[0m \u001b[0mepoch\u001b[0m \u001b[0;34m%\u001b[0m \u001b[0;36m5\u001b[0m \u001b[0;34m==\u001b[0m \u001b[0;36m0\u001b[0m\u001b[0;34m:\u001b[0m\u001b[0;34m\u001b[0m\u001b[0;34m\u001b[0m\u001b[0m\n\u001b[0;32m---> 13\u001b[0;31m     \u001b[0mepoch_loss\u001b[0m \u001b[0;34m=\u001b[0m \u001b[0meval_loss\u001b[0m\u001b[0;34m(\u001b[0m\u001b[0mnet\u001b[0m\u001b[0;34m,\u001b[0m \u001b[0mtrain_iter\u001b[0m\u001b[0;34m,\u001b[0m \u001b[0mloss\u001b[0m\u001b[0;34m,\u001b[0m \u001b[0mctx\u001b[0m\u001b[0;34m)\u001b[0m\u001b[0;34m\u001b[0m\u001b[0;34m\u001b[0m\u001b[0m\n\u001b[0m\u001b[1;32m     14\u001b[0m     \u001b[0manimator\u001b[0m\u001b[0;34m.\u001b[0m\u001b[0madd\u001b[0m\u001b[0;34m(\u001b[0m\u001b[0mepoch\u001b[0m\u001b[0;34m,\u001b[0m \u001b[0mepoch_loss\u001b[0m\u001b[0;34m)\u001b[0m\u001b[0;34m\u001b[0m\u001b[0;34m\u001b[0m\u001b[0m\n",
      "\u001b[0;32m<ipython-input-7-b5eae1bc9e6b>\u001b[0m in \u001b[0;36meval_loss\u001b[0;34m(net, data_iter, loss, ctx, one_batch)\u001b[0m\n\u001b[1;32m      4\u001b[0m   \u001b[0;32mfor\u001b[0m \u001b[0mX\u001b[0m\u001b[0;34m,\u001b[0m \u001b[0my\u001b[0m \u001b[0;32min\u001b[0m \u001b[0mdata_iter\u001b[0m\u001b[0;34m:\u001b[0m\u001b[0;34m\u001b[0m\u001b[0;34m\u001b[0m\u001b[0m\n\u001b[1;32m      5\u001b[0m     \u001b[0mX\u001b[0m\u001b[0;34m,\u001b[0m \u001b[0my\u001b[0m \u001b[0;34m=\u001b[0m \u001b[0mX\u001b[0m\u001b[0;34m.\u001b[0m\u001b[0mas_in_context\u001b[0m\u001b[0;34m(\u001b[0m\u001b[0mctx\u001b[0m\u001b[0;34m)\u001b[0m\u001b[0;34m,\u001b[0m \u001b[0my\u001b[0m\u001b[0;34m.\u001b[0m\u001b[0mas_in_context\u001b[0m\u001b[0;34m(\u001b[0m\u001b[0mctx\u001b[0m\u001b[0;34m)\u001b[0m\u001b[0;34m\u001b[0m\u001b[0;34m\u001b[0m\u001b[0m\n\u001b[0;32m----> 6\u001b[0;31m     \u001b[0ml\u001b[0m \u001b[0;34m+=\u001b[0m \u001b[0mloss\u001b[0m\u001b[0;34m(\u001b[0m\u001b[0mnet\u001b[0m\u001b[0;34m(\u001b[0m\u001b[0mX\u001b[0m\u001b[0;34m)\u001b[0m\u001b[0;34m,\u001b[0m \u001b[0my\u001b[0m\u001b[0;34m)\u001b[0m\u001b[0;34m.\u001b[0m\u001b[0msum\u001b[0m\u001b[0;34m(\u001b[0m\u001b[0;34m)\u001b[0m\u001b[0;34m.\u001b[0m\u001b[0masscalar\u001b[0m\u001b[0;34m(\u001b[0m\u001b[0;34m)\u001b[0m\u001b[0;34m\u001b[0m\u001b[0;34m\u001b[0m\u001b[0m\n\u001b[0m\u001b[1;32m      7\u001b[0m     \u001b[0msize\u001b[0m \u001b[0;34m+=\u001b[0m \u001b[0mlen\u001b[0m\u001b[0;34m(\u001b[0m\u001b[0my\u001b[0m\u001b[0;34m)\u001b[0m\u001b[0;34m\u001b[0m\u001b[0;34m\u001b[0m\u001b[0m\n\u001b[1;32m      8\u001b[0m     \u001b[0;32mif\u001b[0m \u001b[0mone_batch\u001b[0m\u001b[0;34m:\u001b[0m\u001b[0;34m\u001b[0m\u001b[0;34m\u001b[0m\u001b[0m\n",
      "\u001b[0;32m~/Documents/d2l/env/lib/python3.6/site-packages/mxnet/ndarray/ndarray.py\u001b[0m in \u001b[0;36masscalar\u001b[0;34m(self)\u001b[0m\n\u001b[1;32m   2012\u001b[0m         \u001b[0;32mif\u001b[0m \u001b[0mself\u001b[0m\u001b[0;34m.\u001b[0m\u001b[0mshape\u001b[0m \u001b[0;34m!=\u001b[0m \u001b[0;34m(\u001b[0m\u001b[0;36m1\u001b[0m\u001b[0;34m,\u001b[0m\u001b[0;34m)\u001b[0m\u001b[0;34m:\u001b[0m\u001b[0;34m\u001b[0m\u001b[0;34m\u001b[0m\u001b[0m\n\u001b[1;32m   2013\u001b[0m             \u001b[0;32mraise\u001b[0m \u001b[0mValueError\u001b[0m\u001b[0;34m(\u001b[0m\u001b[0;34m\"The current array is not a scalar\"\u001b[0m\u001b[0;34m)\u001b[0m\u001b[0;34m\u001b[0m\u001b[0;34m\u001b[0m\u001b[0m\n\u001b[0;32m-> 2014\u001b[0;31m         \u001b[0;32mreturn\u001b[0m \u001b[0mself\u001b[0m\u001b[0;34m.\u001b[0m\u001b[0masnumpy\u001b[0m\u001b[0;34m(\u001b[0m\u001b[0;34m)\u001b[0m\u001b[0;34m[\u001b[0m\u001b[0;36m0\u001b[0m\u001b[0;34m]\u001b[0m\u001b[0;34m\u001b[0m\u001b[0;34m\u001b[0m\u001b[0m\n\u001b[0m\u001b[1;32m   2015\u001b[0m \u001b[0;34m\u001b[0m\u001b[0m\n\u001b[1;32m   2016\u001b[0m     \u001b[0;32mdef\u001b[0m \u001b[0mastype\u001b[0m\u001b[0;34m(\u001b[0m\u001b[0mself\u001b[0m\u001b[0;34m,\u001b[0m \u001b[0mdtype\u001b[0m\u001b[0;34m,\u001b[0m \u001b[0mcopy\u001b[0m\u001b[0;34m=\u001b[0m\u001b[0;32mTrue\u001b[0m\u001b[0;34m)\u001b[0m\u001b[0;34m:\u001b[0m\u001b[0;34m\u001b[0m\u001b[0;34m\u001b[0m\u001b[0m\n",
      "\u001b[0;32m~/Documents/d2l/env/lib/python3.6/site-packages/mxnet/ndarray/ndarray.py\u001b[0m in \u001b[0;36masnumpy\u001b[0;34m(self)\u001b[0m\n\u001b[1;32m   1994\u001b[0m             \u001b[0mself\u001b[0m\u001b[0;34m.\u001b[0m\u001b[0mhandle\u001b[0m\u001b[0;34m,\u001b[0m\u001b[0;34m\u001b[0m\u001b[0;34m\u001b[0m\u001b[0m\n\u001b[1;32m   1995\u001b[0m             \u001b[0mdata\u001b[0m\u001b[0;34m.\u001b[0m\u001b[0mctypes\u001b[0m\u001b[0;34m.\u001b[0m\u001b[0mdata_as\u001b[0m\u001b[0;34m(\u001b[0m\u001b[0mctypes\u001b[0m\u001b[0;34m.\u001b[0m\u001b[0mc_void_p\u001b[0m\u001b[0;34m)\u001b[0m\u001b[0;34m,\u001b[0m\u001b[0;34m\u001b[0m\u001b[0;34m\u001b[0m\u001b[0m\n\u001b[0;32m-> 1996\u001b[0;31m             ctypes.c_size_t(data.size)))\n\u001b[0m\u001b[1;32m   1997\u001b[0m         \u001b[0;32mreturn\u001b[0m \u001b[0mdata\u001b[0m\u001b[0;34m\u001b[0m\u001b[0;34m\u001b[0m\u001b[0m\n\u001b[1;32m   1998\u001b[0m \u001b[0;34m\u001b[0m\u001b[0m\n",
      "\u001b[0;32m~/Documents/d2l/env/lib/python3.6/site-packages/mxnet/base.py\u001b[0m in \u001b[0;36mcheck_call\u001b[0;34m(ret)\u001b[0m\n\u001b[1;32m    251\u001b[0m     \"\"\"\n\u001b[1;32m    252\u001b[0m     \u001b[0;32mif\u001b[0m \u001b[0mret\u001b[0m \u001b[0;34m!=\u001b[0m \u001b[0;36m0\u001b[0m\u001b[0;34m:\u001b[0m\u001b[0;34m\u001b[0m\u001b[0;34m\u001b[0m\u001b[0m\n\u001b[0;32m--> 253\u001b[0;31m         \u001b[0;32mraise\u001b[0m \u001b[0mMXNetError\u001b[0m\u001b[0;34m(\u001b[0m\u001b[0mpy_str\u001b[0m\u001b[0;34m(\u001b[0m\u001b[0m_LIB\u001b[0m\u001b[0;34m.\u001b[0m\u001b[0mMXGetLastError\u001b[0m\u001b[0;34m(\u001b[0m\u001b[0;34m)\u001b[0m\u001b[0;34m)\u001b[0m\u001b[0;34m)\u001b[0m\u001b[0;34m\u001b[0m\u001b[0;34m\u001b[0m\u001b[0m\n\u001b[0m\u001b[1;32m    254\u001b[0m \u001b[0;34m\u001b[0m\u001b[0m\n\u001b[1;32m    255\u001b[0m \u001b[0;34m\u001b[0m\u001b[0m\n",
      "\u001b[0;31mMXNetError\u001b[0m: [16:58:39] src/storage/./pooled_storage_manager.h:157: cudaMalloc failed: out of memory\nStack trace:\n  [bt] (0) /home/mcdhee/Documents/d2l/env/lib/python3.6/site-packages/mxnet/libmxnet.so(+0x4b04cb) [0x7f5e7e0154cb]\n  [bt] (1) /home/mcdhee/Documents/d2l/env/lib/python3.6/site-packages/mxnet/libmxnet.so(+0x2e6540b) [0x7f5e809ca40b]\n  [bt] (2) /home/mcdhee/Documents/d2l/env/lib/python3.6/site-packages/mxnet/libmxnet.so(+0x2e6af2f) [0x7f5e809cff2f]\n  [bt] (3) /home/mcdhee/Documents/d2l/env/lib/python3.6/site-packages/mxnet/libmxnet.so(mxnet::NDArray::CheckAndAlloc() const+0x1cc) [0x7f5e7e08daac]\n  [bt] (4) /home/mcdhee/Documents/d2l/env/lib/python3.6/site-packages/mxnet/libmxnet.so(+0x2667fed) [0x7f5e801ccfed]\n  [bt] (5) /home/mcdhee/Documents/d2l/env/lib/python3.6/site-packages/mxnet/libmxnet.so(mxnet::imperative::PushFCompute(std::function<void (nnvm::NodeAttrs const&, mxnet::OpContext const&, std::vector<mxnet::TBlob, std::allocator<mxnet::TBlob> > const&, std::vector<mxnet::OpReqType, std::allocator<mxnet::OpReqType> > const&, std::vector<mxnet::TBlob, std::allocator<mxnet::TBlob> > const&)> const&, nnvm::Op const*, nnvm::NodeAttrs const&, mxnet::Context const&, std::vector<mxnet::engine::Var*, std::allocator<mxnet::engine::Var*> > const&, std::vector<mxnet::engine::Var*, std::allocator<mxnet::engine::Var*> > const&, std::vector<mxnet::Resource, std::allocator<mxnet::Resource> > const&, std::vector<mxnet::NDArray*, std::allocator<mxnet::NDArray*> > const&, std::vector<mxnet::NDArray*, std::allocator<mxnet::NDArray*> > const&, std::vector<unsigned int, std::allocator<unsigned int> > const&, std::vector<mxnet::OpReqType, std::allocator<mxnet::OpReqType> > const&)::{lambda(mxnet::RunContext)#1}::operator()(mxnet::RunContext) const+0x20f) [0x7f5e801cd4bf]\n  [bt] (6) /home/mcdhee/Documents/d2l/env/lib/python3.6/site-packages/mxnet/libmxnet.so(+0x25b5515) [0x7f5e8011a515]\n  [bt] (7) /home/mcdhee/Documents/d2l/env/lib/python3.6/site-packages/mxnet/libmxnet.so(+0x25c1ce1) [0x7f5e80126ce1]\n  [bt] (8) /home/mcdhee/Documents/d2l/env/lib/python3.6/site-packages/mxnet/libmxnet.so(+0x25c51f0) [0x7f5e8012a1f0]\n\n"
     ]
    },
    {
     "data": {
      "image/png": "[encoded data removed]",
      "text/plain": [
       "<Figure size 252x180 with 1 Axes>"
      ]
     },
     "metadata": {
      "needs_background": "light"
     },
     "output_type": "display_data"
    }
   ],
   "source": [
    "trainer = gluon.Trainer(net.collect_params(), 'adam', {'learning_rate':3e-6})\n",
    "epochs = 20\n",
    "animator = Animator(xlabel='epochs', xlim=[0, epochs], legend=['loss'])\n",
    "\n",
    "for epoch in range(epochs):\n",
    "  for X, y in train_iter:\n",
    "    X, y = X.as_in_context(ctx), y.as_in_context(ctx)\n",
    "    with autograd.record(): \n",
    "      l = loss(net(X), y)\n",
    "    l.backward()\n",
    "    trainer.step(batch_size)\n",
    "  if epoch % 5 == 0:\n",
    "    epoch_loss = eval_loss(net, train_iter, loss, ctx)\n",
    "    animator.add(epoch, epoch_loss)"
   ]
  },
  {
   "cell_type": "code",
   "execution_count": null,
   "metadata": {
    "colab": {},
    "colab_type": "code",
    "id": "PJ4uEWgBUF6m"
   },
   "outputs": [],
   "source": [
    "final_acc = eval_acc(net, test_iter, ctx)\n",
    "print('Class acc: %f' % (final_acc))"
   ]
  },
  {
   "cell_type": "code",
   "execution_count": null,
   "metadata": {},
   "outputs": [],
   "source": [
    "a, b = evaluate(net, train_iter, loss, ctx, True)"
   ]
  },
  {
   "cell_type": "code",
   "execution_count": null,
   "metadata": {},
   "outputs": [],
   "source": [
    "print(a, b)"
   ]
  },
  {
   "cell_type": "code",
   "execution_count": null,
   "metadata": {},
   "outputs": [],
   "source": []
  }
 ],
 "metadata": {
  "accelerator": "GPU",
  "colab": {
   "collapsed_sections": [],
   "machine_shape": "hm",
   "name": "NiN.ipynb",
   "provenance": [],
   "version": "0.3.2"
  },
  "kernelspec": {
   "display_name": "Python 3",
   "language": "python",
   "name": "python3"
  },
  "language_info": {
   "codemirror_mode": {
    "name": "ipython",
    "version": 3
   },
   "file_extension": ".py",
   "mimetype": "text/x-python",
   "name": "python",
   "nbconvert_exporter": "python",
   "pygments_lexer": "ipython3",
   "version": "3.6.7"
  }
 },
 "nbformat": 4,
 "nbformat_minor": 1
}
