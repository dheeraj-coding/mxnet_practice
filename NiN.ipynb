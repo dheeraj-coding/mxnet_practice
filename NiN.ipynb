{
 "cells": [
  {
   "cell_type": "code",
   "execution_count": 0,
   "metadata": {
    "colab": {
     "base_uri": "https://localhost:8080/",
     "height": 306
    },
    "colab_type": "code",
    "id": "1kZvNtnQSVYm",
    "outputId": "f37f3f6c-ec50-4523-9530-8ac7b70f4d91"
   },
   "outputs": [
    {
     "name": "stdout",
     "output_type": "stream",
     "text": [
      "Sat Aug 24 20:02:59 2019       \n",
      "+-----------------------------------------------------------------------------+\n",
      "| NVIDIA-SMI 410.104      Driver Version: 410.104      CUDA Version: 10.0     |\n",
      "|-------------------------------+----------------------+----------------------+\n",
      "| GPU  Name        Persistence-M| Bus-Id        Disp.A | Volatile Uncorr. ECC |\n",
      "| Fan  Temp  Perf  Pwr:Usage/Cap|         Memory-Usage | GPU-Util  Compute M. |\n",
      "|===============================+======================+======================|\n",
      "|   0  GeForce GTX 980     Off  | 00000000:02:00.0 Off |                  N/A |\n",
      "| 28%   32C    P8    12W / 180W |      1MiB /  4043MiB |      0%      Default |\n",
      "+-------------------------------+----------------------+----------------------+\n",
      "|   1  GeForce GTX 1080    Off  | 00000000:05:00.0 Off |                  N/A |\n",
      "|  0%   48C    P8     8W / 200W |      2MiB /  8119MiB |      0%      Default |\n",
      "+-------------------------------+----------------------+----------------------+\n",
      "|   2  GeForce GTX 1080    Off  | 00000000:06:00.0  On |                  N/A |\n",
      "| 66%   68C    P0    66W / 200W |    537MiB /  8116MiB |      0%      Default |\n",
      "+-------------------------------+----------------------+----------------------+\n",
      "                                                                               \n",
      "+-----------------------------------------------------------------------------+\n",
      "| Processes:                                                       GPU Memory |\n",
      "|  GPU       PID   Type   Process name                             Usage      |\n",
      "|=============================================================================|\n",
      "|    2      1520      G   /usr/lib/xorg/Xorg                            18MiB |\n",
      "|    2      1573      G   /usr/bin/gnome-shell                          68MiB |\n",
      "|    2      2225      G   /usr/lib/xorg/Xorg                           181MiB |\n",
      "|    2      2376      G   /usr/bin/gnome-shell                         135MiB |\n",
      "|    2      2910      G   ...quest-channel-token=6449776004899695746   127MiB |\n",
      "|    2      7283      G   gnome-control-center                           2MiB |\n",
      "+-----------------------------------------------------------------------------+\n"
     ]
    }
   ],
   "source": [
    "!nvidia-smi"
   ]
  },
  {
   "cell_type": "code",
   "execution_count": 0,
   "metadata": {
    "colab": {},
    "colab_type": "code",
    "id": "5qMtOcoaSkNI"
   },
   "outputs": [],
   "source": [
    "import matplotlib.pyplot as plt\n",
    "from mxnet import autograd, gluon, nd, init, context\n",
    "from mxnet.gluon import nn\n",
    "from mxnet.gluon.data.vision import transforms\n",
    "from IPython import display\n",
    "import numpy as np"
   ]
  },
  {
   "cell_type": "code",
   "execution_count": 0,
   "metadata": {
    "colab": {},
    "colab_type": "code",
    "id": "IbRLFfJSdgtI"
   },
   "outputs": [],
   "source": [
    "class Animator(object):\n",
    "    def __init__(self, xlabel=None, ylabel=None, legend=[], xlim=None,\n",
    "                 ylim=None, xscale='linear', yscale='linear', fmts=None,\n",
    "                 nrows=1, ncols=1, figsize=(3.5, 2.5)):\n",
    "        \"\"\"Incrementally plot multiple lines.\"\"\"\n",
    "        self.fig, self.axes = plt.subplots(nrows, ncols, figsize=figsize)\n",
    "        if nrows * ncols == 1: self.axes = [self.axes,]\n",
    "        # use a lambda to capture arguments\n",
    "        self.config_axes = lambda : Animator.set_axes(\n",
    "            self.axes[0], xlabel, ylabel, xlim, ylim, xscale, yscale, legend)\n",
    "        self.X, self.Y, self.fmts = None, None, fmts\n",
    "    \n",
    "    @staticmethod\n",
    "    def set_axes(axes, xlabel, ylabel, xlim, ylim, xscale, yscale, legend):\n",
    "      \"\"\"A utility function to set matplotlib axes\"\"\"\n",
    "      axes.set_xlabel(xlabel)\n",
    "      axes.set_ylabel(ylabel)\n",
    "      axes.set_xscale(xscale)\n",
    "      axes.set_yscale(yscale)\n",
    "      axes.set_xlim(xlim)\n",
    "      axes.set_ylim(ylim)\n",
    "      if legend: axes.legend(legend)\n",
    "      axes.grid()\n",
    "    \n",
    "    def add(self, x, y):\n",
    "        \"\"\"Add multiple data points into the figure.\"\"\"\n",
    "        if not hasattr(y, \"__len__\"): y = [y]\n",
    "        n = len(y)\n",
    "        if not hasattr(x, \"__len__\"): x = [x] * n\n",
    "        if not self.X: self.X = [[] for _ in range(n)]\n",
    "        if not self.Y: self.Y = [[] for _ in range(n)]\n",
    "        if not self.fmts: self.fmts = ['-'] * n\n",
    "        for i, (a, b) in enumerate(zip(x, y)):\n",
    "            if a is not None and b is not None:\n",
    "                self.X[i].append(a)\n",
    "                self.Y[i].append(b)\n",
    "        self.axes[0].cla()\n",
    "        for x, y, fmt in zip(self.X, self.Y, self.fmts):\n",
    "            self.axes[0].plot(x, y, fmt)\n",
    "        self.config_axes()\n",
    "        display.display(self.fig)\n",
    "        display.clear_output(wait=True)"
   ]
  },
  {
   "cell_type": "code",
   "execution_count": 0,
   "metadata": {
    "colab": {},
    "colab_type": "code",
    "id": "GZMntmfyS6XZ"
   },
   "outputs": [],
   "source": [
    "def get_dataloader(batch_size, resize=None, shuffle=True):\n",
    "  transform_list = []\n",
    "  if(resize != None):\n",
    "    transform_list.append(transforms.Resize(resize))\n",
    "  transform_list.append(transforms.ToTensor())\n",
    "  transformer = transforms.Compose(transform_list)\n",
    "  \n",
    "  train = gluon.data.vision.datasets.FashionMNIST(train=True)\n",
    "  train = train.transform_first(transformer)\n",
    "  train_iter = gluon.data.DataLoader(train, batch_size, shuffle=shuffle, num_workers=4)\n",
    "  test = gluon.data.vision.datasets.FashionMNIST(train=False)\n",
    "  test = test.transform_first(transformer)\n",
    "  test_iter = gluon.data.DataLoader(test, batch_size, shuffle=False, num_workers=4)\n",
    "  return train_iter, test_iter, train, test"
   ]
  },
  {
   "cell_type": "code",
   "execution_count": 0,
   "metadata": {
    "colab": {},
    "colab_type": "code",
    "id": "so56doHqULsj"
   },
   "outputs": [],
   "source": [
    "def show_images(X, nrows, ncols):\n",
    "  _, axes = plt.subplots(nrows, ncols)\n",
    "  axes = axes.flatten()\n",
    "  \n",
    "  for img, ax in zip(X, axes):\n",
    "    ax.imshow(img)\n",
    "    ax.get_xaxis().set_visible(False)\n",
    "    ax.get_yaxis().set_visible(False)\n",
    "  return axes"
   ]
  },
  {
   "cell_type": "code",
   "execution_count": 0,
   "metadata": {
    "colab": {},
    "colab_type": "code",
    "id": "PQbCjjJCfTG0"
   },
   "outputs": [],
   "source": [
    "def eval_loss(net, data_iter, loss, ctx, one_batch=False):\n",
    "  l = 0\n",
    "  size = 0\n",
    "  for X, y in data_iter:\n",
    "    X, y = X.as_in_context(ctx), y.as_in_context(ctx)\n",
    "    l += loss(net(X), y).sum().asscalar()\n",
    "    size += len(y)\n",
    "    if one_batch:\n",
    "        break\n",
    "  return l / size"
   ]
  },
  {
   "cell_type": "code",
   "execution_count": 0,
   "metadata": {
    "colab": {},
    "colab_type": "code",
    "id": "8KQWWIQQfmBj"
   },
   "outputs": [],
   "source": [
    "def eval_acc(net, data_iter, ctx, one_batch=False):\n",
    "  acc = 0\n",
    "  size = 0\n",
    "  for X, y in data_iter:\n",
    "    X, y = X.as_in_context(ctx), y.as_in_context(ctx)\n",
    "    result = net(X).softmax(axis=1).argmax(axis=1)\n",
    "    acc += (result == y.astype('float32')).sum().asscalar()\n",
    "    size += len(y)\n",
    "    if one_batch:\n",
    "        break\n",
    "  return acc / size"
   ]
  },
  {
   "cell_type": "code",
   "execution_count": 0,
   "metadata": {
    "colab": {},
    "colab_type": "code",
    "id": "IdHOon9O8MqC"
   },
   "outputs": [],
   "source": [
    "def evaluate(net, data_iter, loss, ctx, one_batch=False):\n",
    "    acc = 0\n",
    "    l = 0\n",
    "    size = 0\n",
    "    for X, y in data_iter:\n",
    "        X, y = X.as_in_context(ctx), y.as_in_context(ctx)\n",
    "        result = net(X)\n",
    "        l += loss(result, y).sum().asscalar()\n",
    "        acc += (result.softmax(axis=1).argmax(axis=1) == y.astype('float32')).sum().asscalar()\n",
    "        size += len(y)\n",
    "    return l/size, acc /size"
   ]
  },
  {
   "cell_type": "code",
   "execution_count": 0,
   "metadata": {
    "colab": {},
    "colab_type": "code",
    "id": "-fEutMYtWWZ4"
   },
   "outputs": [],
   "source": [
    "class NiN(nn.Block):\n",
    "  def __init__(self, config, num_classes, **kwargs):\n",
    "    super(NiN, self).__init__(**kwargs)\n",
    "    self.config = config\n",
    "    self.network = self.get_network(config, num_classes)\n",
    "  \n",
    "  def forward(self, x):\n",
    "    x = self.network(x)\n",
    "    return x\n",
    "  \n",
    "  def __getitem__(self, key):\n",
    "    return self.network[key]\n",
    "  \n",
    "  def __len__(self):\n",
    "    return len(self.config)+3\n",
    "\n",
    "  def nin_block(self, num_channels, kernel_size, strides, padding):\n",
    "    blk = nn.Sequential()\n",
    "    blk.add(nn.Conv2D(num_channels, kernel_size, strides, padding, activation='relu'))\n",
    "    blk.add(nn.Conv2D(num_channels, kernel_size=1, activation='relu'))\n",
    "    blk.add(nn.Conv2D(num_channels, kernel_size=1, activation='relu'))\n",
    "    return blk\n",
    "  \n",
    "  def get_network(self, config, num_classes):\n",
    "    blk = nn.Sequential()\n",
    "    for vals in config:\n",
    "      if vals[0] == 'pool':\n",
    "        blk.add(nn.MaxPool2D(*vals[1:]))\n",
    "      else:\n",
    "        blk.add(self.nin_block(*vals[1:]))\n",
    "    blk.add(nn.GlobalAvgPool2D())\n",
    "    blk.add(nn.Flatten())\n",
    "    return blk\n",
    "    "
   ]
  },
  {
   "cell_type": "code",
   "execution_count": 0,
   "metadata": {
    "colab": {},
    "colab_type": "code",
    "id": "MAbO0mT7TuOz"
   },
   "outputs": [],
   "source": [
    "batch_size = 16\n",
    "resize = 224\n",
    "config = [('mlpconv', 96, 11, 4, 0), ('pool', 3, 2), ('mlpconv', 256, 5, 1, 2), ('pool', 3, 2), ('mlpconv', 384, 3, 1, 1), ('pool', 3, 2), ('mlpconv', 10, 3, 1, 1)]\n",
    "num_classes = 10\n",
    "\n",
    "train_iter, test_iter, train, test = get_dataloader(batch_size, resize, shuffle=True)"
   ]
  },
  {
   "cell_type": "code",
   "execution_count": 0,
   "metadata": {
    "colab": {
     "base_uri": "https://localhost:8080/",
     "height": 303
    },
    "colab_type": "code",
    "id": "IYwoycDhz5tY",
    "outputId": "fffad1be-f0f9-4327-9067-a78620ca3371"
   },
   "outputs": [
    {
     "name": "stdout",
     "output_type": "stream",
     "text": [
      "(16, 1, 224, 224)\n",
      "(16,)\n"
     ]
    },
    {
     "data": {
      "image/png": "[encoded data removed]",
      "text/plain": [
       "<Figure size 432x288 with 10 Axes>"
      ]
     },
     "metadata": {
      "needs_background": "light",
      "tags": []
     },
     "output_type": "display_data"
    }
   ],
   "source": [
    "for X, y in train_iter:\n",
    "  print(X.shape)\n",
    "  print(y.shape)\n",
    "  show_images(X.squeeze(axis=1).asnumpy(), 2, 5)\n",
    "  break"
   ]
  },
  {
   "cell_type": "code",
   "execution_count": 0,
   "metadata": {
    "colab": {
     "base_uri": "https://localhost:8080/",
     "height": 238
    },
    "colab_type": "code",
    "id": "0qdysT5FZh5e",
    "outputId": "bb760b51-ff36-45e0-d10a-4a886c04ee0a"
   },
   "outputs": [
    {
     "name": "stdout",
     "output_type": "stream",
     "text": [
      "sequential1 (1, 96, 54, 54)\n",
      "pool0 (1, 96, 26, 26)\n",
      "sequential2 (1, 256, 26, 26)\n",
      "pool1 (1, 256, 12, 12)\n",
      "sequential3 (1, 384, 12, 12)\n",
      "pool2 (1, 384, 5, 5)\n",
      "sequential4 (1, 10, 5, 5)\n",
      "pool3 (1, 10, 1, 1)\n",
      "flatten0 (1, 10)\n",
      "\n",
      "[[3.05821050e-05 2.17984998e-05 3.21022538e-03 2.71621364e-04\n",
      "  6.54711854e-04 2.85987917e-04 3.68742418e-04 1.04931845e-04\n",
      "  2.04029027e-04 2.18267925e-03]]\n",
      "<NDArray 1x10 @gpu(1)>\n"
     ]
    }
   ],
   "source": [
    "ctx = context.gpu(1)\n",
    "\n",
    "net = NiN(config, num_classes)\n",
    "net.initialize(init=init.Xavier(), ctx=ctx)\n",
    "\n",
    "testX = nd.random.normal(shape=(1, 1, 224, 224), ctx=ctx)\n",
    "\n",
    "for layer in net:\n",
    "  testX = layer(testX)\n",
    "  print(layer.name, testX.shape)\n",
    "\n",
    "print(testX)"
   ]
  },
  {
   "cell_type": "code",
   "execution_count": 0,
   "metadata": {
    "colab": {
     "base_uri": "https://localhost:8080/",
     "height": 459
    },
    "colab_type": "code",
    "id": "0rCuIsbk8cYY",
    "outputId": "130c35c9-9756-4dfa-d52e-cb0aa4444e1c"
   },
   "outputs": [
    {
     "name": "stdout",
     "output_type": "stream",
     "text": [
      "nin0_ (\n",
      "  Parameter conv0_weight (shape=(96, 1, 11, 11), dtype=<class 'numpy.float32'>)\n",
      "  Parameter conv0_bias (shape=(96,), dtype=<class 'numpy.float32'>)\n",
      "  Parameter conv1_weight (shape=(96, 96, 1, 1), dtype=<class 'numpy.float32'>)\n",
      "  Parameter conv1_bias (shape=(96,), dtype=<class 'numpy.float32'>)\n",
      "  Parameter conv2_weight (shape=(96, 96, 1, 1), dtype=<class 'numpy.float32'>)\n",
      "  Parameter conv2_bias (shape=(96,), dtype=<class 'numpy.float32'>)\n",
      "  Parameter conv3_weight (shape=(256, 96, 5, 5), dtype=<class 'numpy.float32'>)\n",
      "  Parameter conv3_bias (shape=(256,), dtype=<class 'numpy.float32'>)\n",
      "  Parameter conv4_weight (shape=(256, 256, 1, 1), dtype=<class 'numpy.float32'>)\n",
      "  Parameter conv4_bias (shape=(256,), dtype=<class 'numpy.float32'>)\n",
      "  Parameter conv5_weight (shape=(256, 256, 1, 1), dtype=<class 'numpy.float32'>)\n",
      "  Parameter conv5_bias (shape=(256,), dtype=<class 'numpy.float32'>)\n",
      "  Parameter conv6_weight (shape=(384, 256, 3, 3), dtype=<class 'numpy.float32'>)\n",
      "  Parameter conv6_bias (shape=(384,), dtype=<class 'numpy.float32'>)\n",
      "  Parameter conv7_weight (shape=(384, 384, 1, 1), dtype=<class 'numpy.float32'>)\n",
      "  Parameter conv7_bias (shape=(384,), dtype=<class 'numpy.float32'>)\n",
      "  Parameter conv8_weight (shape=(384, 384, 1, 1), dtype=<class 'numpy.float32'>)\n",
      "  Parameter conv8_bias (shape=(384,), dtype=<class 'numpy.float32'>)\n",
      "  Parameter conv9_weight (shape=(10, 384, 3, 3), dtype=<class 'numpy.float32'>)\n",
      "  Parameter conv9_bias (shape=(10,), dtype=<class 'numpy.float32'>)\n",
      "  Parameter conv10_weight (shape=(10, 10, 1, 1), dtype=<class 'numpy.float32'>)\n",
      "  Parameter conv10_bias (shape=(10,), dtype=<class 'numpy.float32'>)\n",
      "  Parameter conv11_weight (shape=(10, 10, 1, 1), dtype=<class 'numpy.float32'>)\n",
      "  Parameter conv11_bias (shape=(10,), dtype=<class 'numpy.float32'>)\n",
      ")\n"
     ]
    }
   ],
   "source": [
    "print(net.collect_params())"
   ]
  },
  {
   "cell_type": "code",
   "execution_count": 0,
   "metadata": {
    "colab": {},
    "colab_type": "code",
    "id": "7xOSmoei88iQ"
   },
   "outputs": [],
   "source": [
    "acc = eval_acc(net, train_iter, ctx)\n",
    "print(acc)"
   ]
  },
  {
   "cell_type": "code",
   "execution_count": 0,
   "metadata": {
    "colab": {
     "base_uri": "https://localhost:8080/",
     "height": 119
    },
    "colab_type": "code",
    "id": "g7EbfWCJ8Mqg",
    "outputId": "488c6b69-ae65-4b55-bd02-62cdaed1aa46"
   },
   "outputs": [
    {
     "name": "stdout",
     "output_type": "stream",
     "text": [
      "\n",
      "[36.839996]\n",
      "<NDArray 1 @gpu(1)>\n",
      "\n",
      "[[0. 0. 0. 0. 0. 0. 0. 0. 0. 0.]]\n",
      "<NDArray 1x10 @gpu(1)>\n"
     ]
    }
   ],
   "source": [
    "loss = gluon.loss.SoftmaxCrossEntropyLoss()\n",
    "l = 0\n",
    "for X, y in train_iter:\n",
    "    X, y = X.as_in_context(ctx), y.as_in_context(ctx)\n",
    "    l += loss(net(X), y).sum()\n",
    "    break\n",
    "print(l)\n",
    "zeros = nd.zeros(shape=(1, 1, 224, 224)).as_in_context(ctx)\n",
    "print(net(zeros))"
   ]
  },
  {
   "cell_type": "code",
   "execution_count": 0,
   "metadata": {
    "colab": {},
    "colab_type": "code",
    "id": "datmOFUQc8HF",
    "outputId": "4c44ca68-4f71-4168-b218-4d3a773de132"
   },
   "outputs": [
    {
     "data": {
      "image/png": "[encoded data removed]",
      "text/plain": [
       "<Figure size 252x180 with 1 Axes>"
      ]
     },
     "metadata": {
      "needs_background": "light",
      "tags": []
     },
     "output_type": "display_data"
    }
   ],
   "source": [
    "trainer = gluon.Trainer(net.collect_params(), 'adam', {'learning_rate':3e-6})\n",
    "epochs = 20\n",
    "animator = Animator(xlabel='epochs', xlim=[0, epochs], legend=['loss'])\n",
    "\n",
    "for epoch in range(epochs):\n",
    "  lval = 0\n",
    "  size = 0\n",
    "  for X, y in train_iter:\n",
    "    X, y = X.as_in_context(ctx), y.as_in_context(ctx)\n",
    "    with autograd.record(): \n",
    "      l = loss(net(X), y)\n",
    "    l.backward()\n",
    "    lval += l.sum().asscalar()\n",
    "    size += X.shape[0]\n",
    "    trainer.step(batch_size)\n",
    "  if epoch % 3 == 0:\n",
    "    animator.add(epoch, lval/size)"
   ]
  },
  {
   "cell_type": "code",
   "execution_count": 0,
   "metadata": {
    "colab": {},
    "colab_type": "code",
    "id": "PJ4uEWgBUF6m",
    "outputId": "9928718e-adc0-4613-f2ad-110e5a7440b6"
   },
   "outputs": [
    {
     "name": "stdout",
     "output_type": "stream",
     "text": [
      "Class acc: 0.660900\n"
     ]
    }
   ],
   "source": [
    "final_acc = eval_acc(net, test_iter, ctx)\n",
    "print('Class acc: %f' % (final_acc))"
   ]
  },
  {
   "cell_type": "code",
   "execution_count": 0,
   "metadata": {
    "colab": {},
    "colab_type": "code",
    "id": "UFDetl2U8Mqr"
   },
   "outputs": [],
   "source": [
    "nn.Conv2D?"
   ]
  },
  {
   "cell_type": "code",
   "execution_count": 0,
   "metadata": {
    "colab": {},
    "colab_type": "code",
    "id": "qofsNhBo9UWc"
   },
   "outputs": [],
   "source": []
  }
 ],
 "metadata": {
  "accelerator": "GPU",
  "colab": {
   "collapsed_sections": [],
   "machine_shape": "hm",
   "name": "NiN.ipynb",
   "provenance": [],
   "version": "0.3.2"
  },
  "kernelspec": {
   "display_name": "Python 3",
   "language": "python",
   "name": "python3"
  },
  "language_info": {
   "codemirror_mode": {
    "name": "ipython",
    "version": 3
   },
   "file_extension": ".py",
   "mimetype": "text/x-python",
   "name": "python",
   "nbconvert_exporter": "python",
   "pygments_lexer": "ipython3",
   "version": "3.6.7"
  }
 },
 "nbformat": 4,
 "nbformat_minor": 1
}
