{
 "cells": [
  {
   "cell_type": "code",
   "execution_count": 1,
   "metadata": {},
   "outputs": [],
   "source": [
    "import matplotlib.pyplot as plt\n",
    "from mxnet import nd, autograd, init, context, gluon\n",
    "from mxnet.gluon import nn\n",
    "from mxnet.gluon.data.vision import transforms\n",
    "import numpy as np\n",
    "from IPython import display"
   ]
  },
  {
   "cell_type": "code",
   "execution_count": 2,
   "metadata": {},
   "outputs": [],
   "source": [
    "class Animator(object):\n",
    "    def __init__(self, xlabel=None, ylabel=None, legend=[], xlim=None,\n",
    "                 ylim=None, xscale='linear', yscale='linear', fmts=None,\n",
    "                 nrows=1, ncols=1, figsize=(3.5, 2.5)):\n",
    "        \"\"\"Incrementally plot multiple lines.\"\"\"\n",
    "        self.fig, self.axes = plt.subplots(nrows, ncols, figsize=figsize)\n",
    "        if nrows * ncols == 1: self.axes = [self.axes,]\n",
    "        # use a lambda to capture arguments\n",
    "        self.config_axes = lambda : Animator.set_axes(\n",
    "            self.axes[0], xlabel, ylabel, xlim, ylim, xscale, yscale, legend)\n",
    "        self.X, self.Y, self.fmts = None, None, fmts\n",
    "    \n",
    "    @staticmethod\n",
    "    def set_axes(axes, xlabel, ylabel, xlim, ylim, xscale, yscale, legend):\n",
    "      \"\"\"A utility function to set matplotlib axes\"\"\"\n",
    "      axes.set_xlabel(xlabel)\n",
    "      axes.set_ylabel(ylabel)\n",
    "      axes.set_xscale(xscale)\n",
    "      axes.set_yscale(yscale)\n",
    "      axes.set_xlim(xlim)\n",
    "      axes.set_ylim(ylim)\n",
    "      if legend: axes.legend(legend)\n",
    "      axes.grid()\n",
    "    \n",
    "    def add(self, x, y):\n",
    "        \"\"\"Add multiple data points into the figure.\"\"\"\n",
    "        if not hasattr(y, \"__len__\"): y = [y]\n",
    "        n = len(y)\n",
    "        if not hasattr(x, \"__len__\"): x = [x] * n\n",
    "        if not self.X: self.X = [[] for _ in range(n)]\n",
    "        if not self.Y: self.Y = [[] for _ in range(n)]\n",
    "        if not self.fmts: self.fmts = ['-'] * n\n",
    "        for i, (a, b) in enumerate(zip(x, y)):\n",
    "            if a is not None and b is not None:\n",
    "                self.X[i].append(a)\n",
    "                self.Y[i].append(b)\n",
    "        self.axes[0].cla()\n",
    "        for x, y, fmt in zip(self.X, self.Y, self.fmts):\n",
    "            self.axes[0].plot(x, y, fmt)\n",
    "        self.config_axes()\n",
    "        display.display(self.fig)\n",
    "        display.clear_output(wait=True)"
   ]
  },
  {
   "cell_type": "code",
   "execution_count": 3,
   "metadata": {},
   "outputs": [],
   "source": [
    "def show_images(X, nrows, ncols):\n",
    "    _, axes = plt.subplots(nrows, ncols)\n",
    "    axes = axes.flatten()\n",
    "    for img, ax in zip(X, axes):\n",
    "        ax.imshow(img)\n",
    "        ax.get_xaxis().set_visible(False)\n",
    "        ax.get_yaxis().set_visible(False)\n",
    "    return axes"
   ]
  },
  {
   "cell_type": "code",
   "execution_count": 4,
   "metadata": {},
   "outputs": [],
   "source": [
    "def get_dataloader(batch_size, resize=None, shuffle=True):\n",
    "    transform_list = []\n",
    "    if resize is not None:\n",
    "        transform_list.append(transforms.Resize(resize))\n",
    "    transform_list.append(transforms.ToTensor())\n",
    "    transformer = transforms.Compose(transform_list)\n",
    "    \n",
    "    train = gluon.data.vision.datasets.FashionMNIST(train=True)\n",
    "    train = train.transform_first(transformer)\n",
    "    train_iter = gluon.data.DataLoader(train, batch_size, shuffle, num_workers=4)\n",
    "    \n",
    "    test = gluon.data.vision.datasets.FashionMNIST(train=False)\n",
    "    test = test.transform_first(transformer)\n",
    "    test_iter = gluon.data.DataLoader(test, batch_size, shuffle=False, num_workers=4)\n",
    "    \n",
    "    return train_iter, test_iter, train, test"
   ]
  },
  {
   "cell_type": "code",
   "execution_count": 5,
   "metadata": {},
   "outputs": [],
   "source": [
    "class Residual(nn.Block):\n",
    "    def __init__(self, num_channels, use_1x1=False, strides=1, **kwargs):\n",
    "        super(Residual, self).__init__(**kwargs)\n",
    "        self.conv1 = nn.Conv2D(num_channels, kernel_size=3, strides=strides, padding=1)\n",
    "        self.conv2 = nn.Conv2D(num_channels, kernel_size=3, padding=1)\n",
    "        if use_1x1:\n",
    "            self.conv3 = nn.Conv2D(num_channels, kernel_size=1, strides=strides)\n",
    "        else:\n",
    "            self.conv3 = None\n",
    "        self.bn1 = nn.BatchNorm()\n",
    "        self.bn2 = nn.BatchNorm()\n",
    "        \n",
    "    def forward(self, X):\n",
    "        Y = nd.relu(self.bn1(self.conv1(X)))\n",
    "        Y = self.bn2(self.conv2(Y))\n",
    "        if self.conv3:\n",
    "            X = self.conv3(X)\n",
    "        return nd.relu(X + Y)"
   ]
  },
  {
   "cell_type": "code",
   "execution_count": 6,
   "metadata": {},
   "outputs": [],
   "source": [
    "class ResNet(nn.Block):\n",
    "    def __init__(self, num_classes, **kwargs):\n",
    "        super(ResNet, self).__init__(**kwargs)\n",
    "        self.num_classes = num_classes\n",
    "        self.network = self.get_network()\n",
    "    \n",
    "    def residual_block(self, num_channels, num_residuals, first_block=False):\n",
    "        resblk = nn.Sequential()\n",
    "        for i in range(num_residuals):\n",
    "            if i==0 and not first_block:\n",
    "                resblk.add(Residual(num_channels, use_1x1=True, strides=2))\n",
    "            else:\n",
    "                resblk.add(Residual(num_channels))\n",
    "        return resblk\n",
    "    \n",
    "    def get_network(self):\n",
    "        blk = nn.Sequential()\n",
    "        blk.add(nn.Conv2D(64, kernel_size=7, strides=2, padding=3))\n",
    "        blk.add(nn.BatchNorm())\n",
    "        blk.add(nn.Activation('relu'))\n",
    "        blk.add(nn.MaxPool2D(pool_size=3, strides=2, padding=1))\n",
    "        blk.add(self.residual_block(64, 2, first_block=True))\n",
    "        blk.add(self.residual_block(128, 2))\n",
    "        blk.add(self.residual_block(256, 2))\n",
    "        blk.add(self.residual_block(512, 2))\n",
    "        blk.add(nn.GlobalAvgPool2D())\n",
    "        blk.add(nn.Dense(self.num_classes))\n",
    "        return blk\n",
    "    def __getitem__(self, key):\n",
    "        return self.network[key]\n",
    "    def __len__(self):\n",
    "        return len(self.network)\n",
    "    def forward(self, X):\n",
    "        Y = self.network(X)\n",
    "        return Y"
   ]
  },
  {
   "cell_type": "code",
   "execution_count": 7,
   "metadata": {},
   "outputs": [],
   "source": [
    "batch_size = 4\n",
    "train_iter, test_iter, train, test = get_dataloader(batch_size, resize=112, shuffle=True)"
   ]
  },
  {
   "cell_type": "code",
   "execution_count": 8,
   "metadata": {},
   "outputs": [
    {
     "name": "stdout",
     "output_type": "stream",
     "text": [
      "(4, 1, 112, 112)\n",
      "(4,)\n"
     ]
    },
    {
     "data": {
      "image/png": "[encoded data removed]",
      "text/plain": [
       "<Figure size 432x288 with 8 Axes>"
      ]
     },
     "metadata": {
      "needs_background": "light"
     },
     "output_type": "display_data"
    }
   ],
   "source": [
    "for X, y in train_iter:\n",
    "    print(X.shape)\n",
    "    print(y.shape)\n",
    "    show_images(X.squeeze(axis=1).asnumpy(), 2, 4)\n",
    "    break"
   ]
  },
  {
   "cell_type": "code",
   "execution_count": 9,
   "metadata": {},
   "outputs": [
    {
     "data": {
      "image/png": "[encoded data removed]",
      "text/plain": [
       "<Figure size 432x288 with 1 Axes>"
      ]
     },
     "metadata": {
      "needs_background": "light"
     },
     "output_type": "display_data"
    }
   ],
   "source": [
    "trainX, trainY = train[:]\n",
    "unique, counts = np.unique(trainY, return_counts=True)\n",
    "_, ax = plt.subplots()\n",
    "ax.bar(unique, counts)\n",
    "plt.show()"
   ]
  },
  {
   "cell_type": "code",
   "execution_count": 10,
   "metadata": {},
   "outputs": [
    {
     "name": "stdout",
     "output_type": "stream",
     "text": [
      "conv0 (1, 64, 56, 56)\n",
      "batchnorm0 (1, 64, 56, 56)\n",
      "relu0 (1, 64, 56, 56)\n",
      "pool0 (1, 64, 28, 28)\n",
      "sequential1 (1, 64, 28, 28)\n",
      "sequential2 (1, 128, 14, 14)\n",
      "sequential3 (1, 256, 7, 7)\n",
      "sequential4 (1, 512, 4, 4)\n",
      "pool1 (1, 512, 1, 1)\n",
      "dense0 (1, 10)\n"
     ]
    }
   ],
   "source": [
    "ctx = context.gpu()\n",
    "net = ResNet(10)\n",
    "net.initialize(init=init.Xavier(), ctx=ctx)\n",
    "\n",
    "x = nd.random.normal(shape=(1, 1, 112, 112), ctx=ctx)\n",
    "for i in range(len(net)):\n",
    "    layer = net[i]\n",
    "    x = layer(x)\n",
    "    print(layer.name, x.shape)"
   ]
  },
  {
   "cell_type": "code",
   "execution_count": 11,
   "metadata": {},
   "outputs": [
    {
     "name": "stdout",
     "output_type": "stream",
     "text": [
      "\n",
      "[[ 0.10520803  0.20311749 -0.13732214 -0.22264129 -0.05391912  0.01597009\n",
      "  -0.02008746  0.4184385   0.19534719  0.08831199]]\n",
      "<NDArray 1x10 @gpu(0)>\n"
     ]
    }
   ],
   "source": [
    "print(x)"
   ]
  },
  {
   "cell_type": "code",
   "execution_count": 12,
   "metadata": {},
   "outputs": [
    {
     "name": "stdout",
     "output_type": "stream",
     "text": [
      "\n",
      "[2.1745396]\n",
      "<NDArray 1 @gpu(0)>\n"
     ]
    }
   ],
   "source": [
    "loss = gluon.loss.SoftmaxCrossEntropyLoss()\n",
    "print(loss(x, nd.array([1]).as_in_context(ctx)).sum())"
   ]
  },
  {
   "cell_type": "code",
   "execution_count": 13,
   "metadata": {},
   "outputs": [
    {
     "data": {
      "image/png": "[encoded data removed]",
      "text/plain": [
       "<Figure size 252x180 with 1 Axes>"
      ]
     },
     "metadata": {
      "needs_background": "light"
     },
     "output_type": "display_data"
    }
   ],
   "source": [
    "trainer = gluon.Trainer(net.collect_params(), 'adam', {'learning_rate': 3e-4})\n",
    "epochs = 20\n",
    "animator = Animator(xlabel='epochs', xlim=[0, epochs], legend=['loss'])\n",
    "\n",
    "for i in range(epochs):\n",
    "    epoch_loss = 0\n",
    "    for X, y in train_iter:\n",
    "        X, y = X.as_in_context(ctx), y.as_in_context(ctx)\n",
    "        with autograd.record():\n",
    "            l = loss(net(X), y)\n",
    "        l.backward()\n",
    "        trainer.step(batch_size)\n",
    "        epoch_loss += l.sum().asscalar()\n",
    "    animator.add(i, (epoch_loss))"
   ]
  },
  {
   "cell_type": "code",
   "execution_count": null,
   "metadata": {},
   "outputs": [],
   "source": []
  }
 ],
 "metadata": {
  "kernelspec": {
   "display_name": "Python 3",
   "language": "python",
   "name": "python3"
  },
  "language_info": {
   "codemirror_mode": {
    "name": "ipython",
    "version": 3
   },
   "file_extension": ".py",
   "mimetype": "text/x-python",
   "name": "python",
   "nbconvert_exporter": "python",
   "pygments_lexer": "ipython3",
   "version": "3.6.8"
  }
 },
 "nbformat": 4,
 "nbformat_minor": 2
}
