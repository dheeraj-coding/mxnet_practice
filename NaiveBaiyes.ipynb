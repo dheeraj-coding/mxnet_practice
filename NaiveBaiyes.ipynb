{
 "cells": [
  {
   "cell_type": "code",
   "execution_count": 136,
   "metadata": {},
   "outputs": [],
   "source": [
    "from mxnet import nd, gluon\n",
    "import matplotlib.pyplot as plt\n",
    "import random"
   ]
  },
  {
   "cell_type": "code",
   "execution_count": 137,
   "metadata": {},
   "outputs": [],
   "source": [
    "def transform(data, label):\n",
    "    return (data/128).astype('float32').squeeze(axis=-1), label"
   ]
  },
  {
   "cell_type": "code",
   "execution_count": 138,
   "metadata": {},
   "outputs": [],
   "source": [
    "def show_images(imgs, rows, cols):\n",
    "    _, axes = plt.subplots(rows, cols)\n",
    "    axes = axes.flatten()\n",
    "    for ax, img in zip(axes, imgs):\n",
    "        ax.imshow(img.asnumpy())\n",
    "        ax.get_xaxis().set_visible(False)\n",
    "        ax.get_yaxis().set_visible(False)\n",
    "    plt.show()\n",
    "    return axes"
   ]
  },
  {
   "cell_type": "code",
   "execution_count": 139,
   "metadata": {},
   "outputs": [],
   "source": [
    "def computeYProbs(Y, n_classes):\n",
    "    n_y = nd.zeros(n_classes)\n",
    "    for i in range(n_classes):\n",
    "        n_y[i] = (Y==i).sum()\n",
    "    P_y = n_y / n_y.sum()\n",
    "    return P_y, n_y"
   ]
  },
  {
   "cell_type": "code",
   "execution_count": 140,
   "metadata": {},
   "outputs": [],
   "source": [
    "def computeXProbs(X, n_y, n_classes):\n",
    "    n_x = nd.zeros((n_classes, X.shape[1], X.shape[2]))\n",
    "    for i in range(n_classes):\n",
    "        n_x[i] = nd.array(X.asnumpy()[Y==i].sum(axis=0))\n",
    "    P_xy = (n_x+1) / (n_y+1).reshape((10, 1, 1))\n",
    "    return P_xy"
   ]
  },
  {
   "cell_type": "code",
   "execution_count": 141,
   "metadata": {},
   "outputs": [],
   "source": [
    "def predict(img, P_xy, P_y, n_classes):\n",
    "    img = img.expand_dims(axis=0)\n",
    "    log_P_xy = nd.log(P_xy)\n",
    "    log_neg_P_xy = nd.log(1-P_xy)\n",
    "    pxy = log_P_xy * img + log_neg_P_xy * (1-img)\n",
    "    pxy = pxy.reshape((n_classes, -1)).sum(axis=1)\n",
    "    probs = pxy + nd.log(P_y)\n",
    "    return probs.argmax(axis=0)"
   ]
  },
  {
   "cell_type": "code",
   "execution_count": 142,
   "metadata": {},
   "outputs": [],
   "source": [
    "mnist_train = gluon.data.vision.datasets.MNIST(train=True, transform=transform)\n",
    "mnist_test = gluon.data.vision.datasets.MNIST(train=False, transform=transform)\n",
    "n_classes = 10"
   ]
  },
  {
   "cell_type": "code",
   "execution_count": 143,
   "metadata": {},
   "outputs": [
    {
     "data": {
      "image/png": "[encoded data removed]",
      "text/plain": [
       "<Figure size 432x288 with 10 Axes>"
      ]
     },
     "metadata": {
      "needs_background": "light"
     },
     "output_type": "display_data"
    },
    {
     "name": "stdout",
     "output_type": "stream",
     "text": [
      "X shape (60000, 28, 28)\n",
      "Y shape (60000,)\n"
     ]
    }
   ],
   "source": [
    "X, Y = mnist_train[:]\n",
    "show_images(X, 2, 5)\n",
    "print('X shape', X.shape)\n",
    "print('Y shape', Y.shape)"
   ]
  },
  {
   "cell_type": "code",
   "execution_count": 144,
   "metadata": {},
   "outputs": [
    {
     "name": "stdout",
     "output_type": "stream",
     "text": [
      "(10,)\n",
      "\n",
      "[0.09871667 0.11236667 0.0993     0.10218333 0.09736667 0.09035\n",
      " 0.09863333 0.10441667 0.09751666 0.09915   ]\n",
      "<NDArray 10 @cpu(0)>\n",
      "\n",
      "[1.]\n",
      "<NDArray 1 @cpu(0)>\n"
     ]
    }
   ],
   "source": [
    "P_y, n_y = computeYProbs(Y, n_classes)\n",
    "print(P_y.shape)\n",
    "print(P_y)\n",
    "print(P_y.sum())"
   ]
  },
  {
   "cell_type": "code",
   "execution_count": 145,
   "metadata": {},
   "outputs": [
    {
     "data": {
      "image/png": "[encoded data removed]",
      "text/plain": [
       "<Figure size 432x288 with 10 Axes>"
      ]
     },
     "metadata": {
      "needs_background": "light"
     },
     "output_type": "display_data"
    },
    {
     "name": "stdout",
     "output_type": "stream",
     "text": [
      "(10, 28, 28)\n"
     ]
    }
   ],
   "source": [
    "P_xy = computeXProbs(X, n_y, n_classes)\n",
    "show_images(P_xy, 2, 5)\n",
    "print(P_xy.shape)"
   ]
  },
  {
   "cell_type": "code",
   "execution_count": 154,
   "metadata": {},
   "outputs": [
    {
     "name": "stdout",
     "output_type": "stream",
     "text": [
      "\n",
      "[1.]\n",
      "<NDArray 1 @cpu(0)>\n"
     ]
    },
    {
     "data": {
      "image/png": "[encoded data removed]",
      "text/plain": [
       "<Figure size 432x288 with 1 Axes>"
      ]
     },
     "metadata": {
      "needs_background": "light"
     },
     "output_type": "display_data"
    }
   ],
   "source": [
    "test = X[random.randint(0, X.shape[0])]\n",
    "res = predict(test, P_xy, P_y, n_classes)\n",
    "print(res)\n",
    "plt.imshow(test.asnumpy())\n",
    "plt.show()"
   ]
  },
  {
   "cell_type": "code",
   "execution_count": null,
   "metadata": {},
   "outputs": [],
   "source": []
  }
 ],
 "metadata": {
  "kernelspec": {
   "display_name": "Python 3",
   "language": "python",
   "name": "python3"
  },
  "language_info": {
   "codemirror_mode": {
    "name": "ipython",
    "version": 3
   },
   "file_extension": ".py",
   "mimetype": "text/x-python",
   "name": "python",
   "nbconvert_exporter": "python",
   "pygments_lexer": "ipython3",
   "version": "3.6.7"
  }
 },
 "nbformat": 4,
 "nbformat_minor": 2
}
