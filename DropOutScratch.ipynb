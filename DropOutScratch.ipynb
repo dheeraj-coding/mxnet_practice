{
 "cells": [
  {
   "cell_type": "code",
   "execution_count": 16,
   "metadata": {},
   "outputs": [],
   "source": [
    "import matplotlib.pyplot as plt\n",
    "from mxnet import autograd, nd, gluon\n",
    "from mxnet.gluon.data.vision import transforms"
   ]
  },
  {
   "cell_type": "code",
   "execution_count": 17,
   "metadata": {},
   "outputs": [],
   "source": [
    "def get_dataloader(batch_size):\n",
    "    transformer = transforms.Compose([\n",
    "        transforms.ToTensor()\n",
    "    ])\n",
    "    train = gluon.data.vision.datasets.FashionMNIST(train=True)\n",
    "    train = train.transform_first(transformer)\n",
    "    train_iter = gluon.data.DataLoader(train, batch_size, shuffle=True, num_workers=4)\n",
    "    \n",
    "    test = gluon.data.vision.datasets.FashionMNIST(train=True)\n",
    "    test = test.transform_first(transformer)\n",
    "    test_iter = gluon.data.DataLoader(test, batch_size, shuffle=False, num_workers=4)\n",
    "    return train_iter, test_iter"
   ]
  },
  {
   "cell_type": "code",
   "execution_count": 18,
   "metadata": {},
   "outputs": [],
   "source": [
    "def show_images(X, nrows, ncols):\n",
    "    _, axes = plt.subplots(nrows, ncols)\n",
    "    axes = axes.flatten()\n",
    "    for img, ax in zip(X, axes):\n",
    "        ax.imshow(img)\n",
    "        ax.get_xaxis().set_visible(False)\n",
    "        ax.get_yaxis().set_visible(False)\n",
    "    return axes"
   ]
  },
  {
   "cell_type": "code",
   "execution_count": 19,
   "metadata": {},
   "outputs": [],
   "source": [
    "def init_params(num_inputs, num_hidden1, num_hidden2, num_output):\n",
    "    W1 = nd.random.normal(scale=0.01, shape=(num_inputs, num_hidden1))\n",
    "    b1 = nd.zeros(num_hidden1)\n",
    "    W2 = nd.random.normal(scale=0.01, shape=(num_hidden1, num_hidden2))\n",
    "    b2 = nd.zeros(num_hidden2)\n",
    "    W3 = nd.random.normal(scale=0.01, shape=(num_hidden2, num_output))\n",
    "    b3 = nd.zeros(num_output)\n",
    "    params = [W1, b1, W2, b2, W3, b3]\n",
    "    for param in params:\n",
    "        param.attach_grad()\n",
    "    return params"
   ]
  },
  {
   "cell_type": "code",
   "execution_count": 20,
   "metadata": {},
   "outputs": [],
   "source": [
    "def accuracy(net, params, num_inputs, drop_probs, loss, data_iter):\n",
    "    acc = 0\n",
    "    lnet = 0\n",
    "    size = 0\n",
    "    for X, y in data_iter:\n",
    "        result = net(X, params, num_inputs, drop_probs)\n",
    "        l = loss(result, y)\n",
    "        lnet += l.sum().asscalar()\n",
    "        y_hat = softmax(result)\n",
    "        acc += (y_hat.argmax(axis=1) == y.astype('float32')).sum().asscalar()\n",
    "        size += len(y)\n",
    "    return acc / size, lnet / size"
   ]
  },
  {
   "cell_type": "code",
   "execution_count": 21,
   "metadata": {},
   "outputs": [],
   "source": [
    "def softmax(X):\n",
    "    X_exp = X.exp()\n",
    "    normalization = X_exp.sum(axis=1, keepdims=True)\n",
    "    return X_exp / normalization"
   ]
  },
  {
   "cell_type": "code",
   "execution_count": 22,
   "metadata": {},
   "outputs": [],
   "source": [
    "def dropout(h, drop_prob):\n",
    "    mask = nd.random.uniform(0, 1, shape=h.shape) > drop_prob\n",
    "    return (mask * h) / (1.0-drop_prob)"
   ]
  },
  {
   "cell_type": "code",
   "execution_count": 23,
   "metadata": {},
   "outputs": [],
   "source": [
    "def sgd(params, lr, batch_size):\n",
    "    for param in params:\n",
    "        param[:] = param - (lr / batch_size) * param.grad"
   ]
  },
  {
   "cell_type": "code",
   "execution_count": 31,
   "metadata": {},
   "outputs": [],
   "source": [
    "def net(X, params, num_inputs, drop_probs):\n",
    "    X = X.reshape((-1, num_inputs))\n",
    "    W1, b1, W2, b2, W3, b3 = params\n",
    "#     print(W1.sum())\n",
    "    H1 = nd.dot(X, W1) + b1\n",
    "    if autograd.is_training():\n",
    "        H1 = dropout(H1, drop_probs[0])\n",
    "    H1 = H1.relu()\n",
    "    H2 = nd.dot(H1, W2) + b2\n",
    "    if autograd.is_training():\n",
    "        H2 = dropout(H2, drop_probs[1])\n",
    "    H2 = H2.relu()\n",
    "    return nd.dot(H2, W3) + b3"
   ]
  },
  {
   "cell_type": "code",
   "execution_count": 25,
   "metadata": {},
   "outputs": [],
   "source": [
    "batch_size = 256\n",
    "train_iter, test_iter = get_dataloader(batch_size)\n",
    "num_inputs = 28*28\n",
    "num_hidden1, num_hidden2 = 256, 256\n",
    "num_output = 10\n",
    "drop_probs = [0.0, 0.0]\n",
    "\n",
    "params = init_params(num_inputs, num_hidden1, num_hidden2, num_output)"
   ]
  },
  {
   "cell_type": "code",
   "execution_count": 32,
   "metadata": {},
   "outputs": [
    {
     "name": "stdout",
     "output_type": "stream",
     "text": [
      "Epoch 0, acc: 0.798250 loss: 0.545852\n",
      "Epoch 1, acc: 0.827333 loss: 0.483884\n",
      "Epoch 2, acc: 0.840633 loss: 0.448361\n",
      "Epoch 3, acc: 0.854817 loss: 0.406807\n",
      "Epoch 4, acc: 0.861367 loss: 0.389544\n"
     ]
    }
   ],
   "source": [
    "epochs = 5\n",
    "lr = 0.1\n",
    "loss = gluon.loss.SoftmaxCrossEntropyLoss()\n",
    "for epoch in range(epochs):\n",
    "    for X, y in train_iter:\n",
    "        with autograd.record():\n",
    "            result = net(X, params, num_inputs, drop_probs)            \n",
    "#             result = model(X)\n",
    "            l = loss(result, y)\n",
    "        l.backward()\n",
    "        for param in params:\n",
    "            param[:] = param - (lr/batch_size) * param.grad\n",
    "#         sgd(params, lr, batch_size)\n",
    "    epoch_acc, epoch_loss = accuracy(net, params, num_inputs, drop_probs,loss,  train_iter)\n",
    "    print('Epoch %d, acc: %f loss: %f' % (epoch, epoch_acc, epoch_loss))"
   ]
  },
  {
   "cell_type": "code",
   "execution_count": null,
   "metadata": {},
   "outputs": [],
   "source": [
    "for X, y in train_iter:\n",
    "    show_images(X.squeeze(axis=1).asnumpy(), 2, 5)\n",
    "    result = model(X)\n",
    "    y_hat = softmax(result)\n",
    "    print((y_hat.argmax(axis=1) == y.astype('float32')).sum())\n",
    "    acc = accuracy(model,gluon.loss.SoftmaxCrossEntropyLoss(), train_iter)\n",
    "    print(acc)\n",
    "    break"
   ]
  }
 ],
 "metadata": {
  "kernelspec": {
   "display_name": "Python 3",
   "language": "python",
   "name": "python3"
  },
  "language_info": {
   "codemirror_mode": {
    "name": "ipython",
    "version": 3
   },
   "file_extension": ".py",
   "mimetype": "text/x-python",
   "name": "python",
   "nbconvert_exporter": "python",
   "pygments_lexer": "ipython3",
   "version": "3.6.7"
  }
 },
 "nbformat": 4,
 "nbformat_minor": 2
}
