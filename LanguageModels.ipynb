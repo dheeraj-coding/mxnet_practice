{
 "cells": [
  {
   "cell_type": "code",
   "execution_count": 6,
   "metadata": {},
   "outputs": [],
   "source": [
    "import matplotlib.pyplot as plt\n",
    "from mxnet import nd, autograd, init, context, gluon\n",
    "from mxnet.gluon import nn\n",
    "from IPython import display\n",
    "import re\n",
    "import collections"
   ]
  },
  {
   "cell_type": "code",
   "execution_count": 7,
   "metadata": {},
   "outputs": [],
   "source": [
    "def read_time_machine():\n",
    "    with open('./data/timemachine.txt', 'r') as f:\n",
    "        lines = f.readlines()\n",
    "    return [re.sub('[^A-Za-z]+', ' ', line.strip().lower()) for line in lines]"
   ]
  },
  {
   "cell_type": "code",
   "execution_count": 8,
   "metadata": {},
   "outputs": [
    {
     "name": "stdout",
     "output_type": "stream",
     "text": [
      "['the time machine by h g wells ', '', '', '', '']\n"
     ]
    }
   ],
   "source": [
    "lines = read_time_machine()\n",
    "print(lines[:5])"
   ]
  },
  {
   "cell_type": "code",
   "execution_count": 9,
   "metadata": {},
   "outputs": [],
   "source": [
    "def tokenize(lines):\n",
    "    tokens = [line.split(' ') for line in lines]\n",
    "    return tokens"
   ]
  },
  {
   "cell_type": "code",
   "execution_count": 10,
   "metadata": {},
   "outputs": [
    {
     "name": "stdout",
     "output_type": "stream",
     "text": [
      "[['the', 'time', 'machine', 'by', 'h', 'g', 'wells', ''], ['']]\n"
     ]
    }
   ],
   "source": [
    "tokens = tokenize(lines)\n",
    "print(tokens[:2])"
   ]
  },
  {
   "cell_type": "code",
   "execution_count": 11,
   "metadata": {},
   "outputs": [],
   "source": [
    "def count_freqs(lines):\n",
    "    flat = [tk for line in lines for tk in line ]\n",
    "    return collections.Counter(flat)"
   ]
  },
  {
   "cell_type": "code",
   "execution_count": 12,
   "metadata": {},
   "outputs": [
    {
     "name": "stdout",
     "output_type": "stream",
     "text": [
      "[('the', 2261), ('time', 200), ('machine', 85), ('by', 103)]\n"
     ]
    }
   ],
   "source": [
    "token_freqs = count_freqs(tokens)\n",
    "print(list(token_freqs.items())[:4])"
   ]
  },
  {
   "cell_type": "code",
   "execution_count": 42,
   "metadata": {},
   "outputs": [],
   "source": [
    "class Vocab(object):\n",
    "    def __init__(self, tokens, min_freq=0):\n",
    "        self.token_freqs = count_freqs(tokens)\n",
    "        self.token_freqs = sorted(self.token_freqs.items(), key=lambda x:x[0])\n",
    "        self.token_freqs = sorted(self.token_freqs, key=lambda x:x[1], reverse=True)\n",
    "        \n",
    "        self.unq, self.unq_tokens = 0, ['<unk>']\n",
    "        self.unq_tokens += [token for token, freq in self.token_freqs if freq > min_freq]\n",
    "        self.idx_to_tokens, self.tokens_to_idx = [], dict()\n",
    "        \n",
    "        for token in self.unq_tokens:\n",
    "            self.idx_to_tokens.append(token)\n",
    "            self.tokens_to_idx[token] = len(self.idx_to_tokens) - 1\n",
    "        \n",
    "    @staticmethod\n",
    "    def count_freqs(lines):\n",
    "        flat = [tk for line in lines for tk in line ]\n",
    "        return collections.Counter(flat)\n",
    "    \n",
    "    def __len__(self):\n",
    "        return len(self.idx_to_tokens)\n",
    "    \n",
    "    def __getitem__(self, tokens):\n",
    "        if not isinstance(tokens, (list, tuple)):\n",
    "            return self.tokens_to_idx[tokens]\n",
    "        return [self.tokens_to_idx[token] for token in tokens]\n",
    "    \n",
    "    def to_tokens(self, indices):\n",
    "        if not isinstance(indices, (list, tuple)):\n",
    "            return self.idx_to_tokens[indices]\n",
    "        return [self.idx_to_tokens[index] for index in indices]"
   ]
  },
  {
   "cell_type": "code",
   "execution_count": 43,
   "metadata": {},
   "outputs": [],
   "source": [
    "lines = read_time_machine()\n",
    "tokens = tokenize(lines)\n",
    "vocab = Vocab(tokens)"
   ]
  },
  {
   "cell_type": "code",
   "execution_count": 44,
   "metadata": {},
   "outputs": [
    {
     "name": "stdout",
     "output_type": "stream",
     "text": [
      "[('the', 2261), ('', 1282), ('i', 1267), ('and', 1245), ('of', 1155)]\n"
     ]
    }
   ],
   "source": [
    "print(vocab.token_freqs[:5])"
   ]
  },
  {
   "cell_type": "code",
   "execution_count": 45,
   "metadata": {},
   "outputs": [
    {
     "data": {
      "image/png": "[encoded data removed]",
      "text/plain": [
       "<Figure size 432x288 with 1 Axes>"
      ]
     },
     "metadata": {
      "needs_background": "light"
     },
     "output_type": "display_data"
    }
   ],
   "source": [
    "freqs = [freq for token, freq in vocab.token_freqs]\n",
    "axes = plt.gca()\n",
    "axes.plot(range(len(freqs)), freqs)\n",
    "axes.set_xlabel('tokens')\n",
    "axes.set_ylabel('freqs')\n",
    "axes.set_xscale('log')\n",
    "axes.set_yscale('log')"
   ]
  },
  {
   "cell_type": "code",
   "execution_count": 48,
   "metadata": {},
   "outputs": [],
   "source": [
    "bigram_tokens = [[pair for pair in zip(line[:-1], line[1:])] for line in tokens]\n",
    "bigram_vocab = Vocab(bigram_tokens)"
   ]
  },
  {
   "cell_type": "code",
   "execution_count": 49,
   "metadata": {},
   "outputs": [
    {
     "name": "stdout",
     "output_type": "stream",
     "text": [
      "[(('of', 'the'), 297), (('in', 'the'), 161), (('i', 'had'), 126), (('and', 'the'), 104), (('i', 'was'), 104)]\n"
     ]
    }
   ],
   "source": [
    "print(bigram_vocab.token_freqs[:5])"
   ]
  },
  {
   "cell_type": "code",
   "execution_count": 50,
   "metadata": {},
   "outputs": [
    {
     "data": {
      "image/png": "[encoded data removed]",
      "text/plain": [
       "<Figure size 432x288 with 1 Axes>"
      ]
     },
     "metadata": {
      "needs_background": "light"
     },
     "output_type": "display_data"
    }
   ],
   "source": [
    "freqs = [freq for token, freq in bigram_vocab.token_freqs]\n",
    "axes = plt.gca()\n",
    "axes.plot(range(len(freqs)), freqs)\n",
    "axes.set_xlabel('tokens')\n",
    "axes.set_ylabel('freqs')\n",
    "axes.set_xscale('log')\n",
    "axes.set_yscale('log')"
   ]
  },
  {
   "cell_type": "code",
   "execution_count": null,
   "metadata": {},
   "outputs": [],
   "source": []
  }
 ],
 "metadata": {
  "kernelspec": {
   "display_name": "Python 3",
   "language": "python",
   "name": "python3"
  },
  "language_info": {
   "codemirror_mode": {
    "name": "ipython",
    "version": 3
   },
   "file_extension": ".py",
   "mimetype": "text/x-python",
   "name": "python",
   "nbconvert_exporter": "python",
   "pygments_lexer": "ipython3",
   "version": "3.6.8"
  }
 },
 "nbformat": 4,
 "nbformat_minor": 2
}
